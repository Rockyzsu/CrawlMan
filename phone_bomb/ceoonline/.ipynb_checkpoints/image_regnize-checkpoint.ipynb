{
 "cells": [
  {
   "cell_type": "code",
   "execution_count": 1,
   "metadata": {},
   "outputs": [],
   "source": [
    "import cv2\n",
    "import matplotlib.pyplot as plt\n",
    "%matplotlib inline\n",
    "import numpy as np"
   ]
  },
  {
   "cell_type": "code",
   "execution_count": 147,
   "metadata": {},
   "outputs": [],
   "source": [
    "file = r'C:\\git\\CrawlMan\\phone_bomb\\ceoonline\\images\\31.jpg'"
   ]
  },
  {
   "cell_type": "code",
   "execution_count": 76,
   "metadata": {},
   "outputs": [],
   "source": [
    "im=cv2.imread(file)"
   ]
  },
  {
   "cell_type": "code",
   "execution_count": 77,
   "metadata": {},
   "outputs": [
    {
     "data": {
      "text/plain": [
       "<matplotlib.image.AxesImage at 0x27fba409f98>"
      ]
     },
     "execution_count": 77,
     "metadata": {},
     "output_type": "execute_result"
    },
    {
     "data": {
      "image/png": "[encoded data removed]",
      "text/plain": [
       "<Figure size 432x288 with 1 Axes>"
      ]
     },
     "metadata": {
      "needs_background": "light"
     },
     "output_type": "display_data"
    }
   ],
   "source": [
    "plt.imshow(im)"
   ]
  },
  {
   "cell_type": "code",
   "execution_count": 78,
   "metadata": {},
   "outputs": [],
   "source": [
    "im_gray=cv2.cvtColor(im,cv2.COLOR_RGB2GRAY)"
   ]
  },
  {
   "cell_type": "code",
   "execution_count": 79,
   "metadata": {},
   "outputs": [
    {
     "data": {
      "text/plain": [
       "<matplotlib.image.AxesImage at 0x27fba2c55c0>"
      ]
     },
     "execution_count": 79,
     "metadata": {},
     "output_type": "execute_result"
    },
    {
     "data": {
      "image/png": "[encoded data removed]",
      "text/plain": [
       "<Figure size 432x288 with 1 Axes>"
      ]
     },
     "metadata": {
      "needs_background": "light"
     },
     "output_type": "display_data"
    }
   ],
   "source": [
    "plt.imshow(im_gray)"
   ]
  },
  {
   "cell_type": "code",
   "execution_count": 80,
   "metadata": {},
   "outputs": [
    {
     "data": {
      "text/plain": [
       "<matplotlib.image.AxesImage at 0x27fb9d166d8>"
      ]
     },
     "execution_count": 80,
     "metadata": {},
     "output_type": "execute_result"
    },
    {
     "data": {
      "image/png": "[encoded data removed]",
      "text/plain": [
       "<Figure size 432x288 with 1 Axes>"
      ]
     },
     "metadata": {
      "needs_background": "light"
     },
     "output_type": "display_data"
    }
   ],
   "source": [
    "ret,im_bw=cv2.threshold(im_gray,160,255,0)\n",
    "plt.imshow(im_bw)"
   ]
  },
  {
   "cell_type": "code",
   "execution_count": 81,
   "metadata": {
    "scrolled": true
   },
   "outputs": [],
   "source": [
    "import imutils"
   ]
  },
  {
   "cell_type": "code",
   "execution_count": 82,
   "metadata": {
    "scrolled": true
   },
   "outputs": [
    {
     "data": {
      "text/plain": [
       "False"
      ]
     },
     "execution_count": 82,
     "metadata": {},
     "output_type": "execute_result"
    }
   ],
   "source": [
    "imutils.is_cv2()"
   ]
  },
  {
   "cell_type": "code",
   "execution_count": 94,
   "metadata": {},
   "outputs": [],
   "source": [
    "contours,hierarchy  = cv2.findContours(im_bw,cv2.RETR_LIST, cv2.CHAIN_APPROX_SIMPLE)"
   ]
  },
  {
   "cell_type": "code",
   "execution_count": 33,
   "metadata": {
    "scrolled": true
   },
   "outputs": [
    {
     "data": {
      "text/plain": [
       "array([[[65, 24]],\n",
       "\n",
       "       [[66, 23]],\n",
       "\n",
       "       [[67, 24]],\n",
       "\n",
       "       [[66, 25]]], dtype=int32)"
      ]
     },
     "execution_count": 33,
     "metadata": {},
     "output_type": "execute_result"
    }
   ],
   "source": [
    "contours[1]"
   ]
  },
  {
   "cell_type": "code",
   "execution_count": 95,
   "metadata": {},
   "outputs": [
    {
     "name": "stdout",
     "output_type": "stream",
     "text": [
      "宽度为3\n",
      "宽度为3\n",
      "宽度为3\n",
      "宽度为3\n",
      "宽度为5\n",
      "宽度为6\n",
      "宽度为4\n",
      "宽度为9\n",
      "宽度为14\n",
      "宽度为16\n",
      "宽度为30\n",
      "宽度为72\n"
     ]
    }
   ],
   "source": [
    "letter_image_regions = []\n",
    "\n",
    "    # Now we can loop through each of the four contours and extract the letter\n",
    "    # inside of each one\n",
    "for contour in contours:\n",
    "        # Get the rectangle that contains the contour\n",
    "    x,y,w,h = cv2.boundingRect(contour)\n",
    "#     if w <= 7 or w >= 50:\n",
    "#         continue\n",
    "        # Compare the width and height of the contour to detect letters that\n",
    "        # are conjoined into one chunk\n",
    "#     if w / h > 3:\n",
    "#             # This contour is too wide to be a single letter!\n",
    "#             # Split it in half into two letter regions!\n",
    "#         half_width = int(w / 2)\n",
    "#         print('half')\n",
    "#         letter_image_regions.append((x, y, half_width, h))\n",
    "#         letter_image_regions.append((x + half_width, y, half_width, h))\n",
    "#     else:\n",
    "            # This is a normal letter by itself\n",
    "#     if w>=30 and w<=42:\n",
    "        \n",
    "#         half_width = int(w / 2)\n",
    "# #         print('half')\n",
    "#         letter_image_regions.append((x, y, half_width, h))\n",
    "#         letter_image_regions.append((x + half_width, y, half_width, h))\n",
    "# #         letter_image_regions.append((x, y, w, h))        \n",
    "#     else:\n",
    "    letter_image_regions.append((x, y, w, h))        \n",
    "    print('宽度为{}'.format(w))\n",
    "    \n"
   ]
  },
  {
   "cell_type": "code",
   "execution_count": 96,
   "metadata": {},
   "outputs": [],
   "source": [
    "letter_image_regions = sorted(letter_image_regions, key=lambda x: x[0])"
   ]
  },
  {
   "cell_type": "code",
   "execution_count": 97,
   "metadata": {},
   "outputs": [
    {
     "data": {
      "text/plain": [
       "12"
      ]
     },
     "execution_count": 97,
     "metadata": {},
     "output_type": "execute_result"
    }
   ],
   "source": [
    "len(letter_image_regions)"
   ]
  },
  {
   "cell_type": "code",
   "execution_count": 98,
   "metadata": {
    "scrolled": false
   },
   "outputs": [
    {
     "data": {
      "text/plain": [
       "[(0, 0, 72, 30),\n",
       " (3, 13, 3, 3),\n",
       " (5, 5, 14, 17),\n",
       " (9, 8, 4, 5),\n",
       " (20, 4, 16, 20),\n",
       " (25, 8, 6, 6),\n",
       " (37, 3, 30, 19),\n",
       " (41, 6, 9, 13),\n",
       " (57, 10, 5, 2),\n",
       " (65, 23, 3, 3),\n",
       " (65, 19, 3, 3),\n",
       " (67, 22, 3, 3)]"
      ]
     },
     "execution_count": 98,
     "metadata": {},
     "output_type": "execute_result"
    }
   ],
   "source": [
    "letter_image_regions"
   ]
  },
  {
   "cell_type": "code",
   "execution_count": 99,
   "metadata": {
    "scrolled": true
   },
   "outputs": [
    {
     "data": {
      "image/png": "[encoded data removed]",
      "text/plain": [
       "<Figure size 432x288 with 12 Axes>"
      ]
     },
     "metadata": {
      "needs_background": "light"
     },
     "output_type": "display_data"
    }
   ],
   "source": [
    "\n",
    "for idx,letter_bounding_box in enumerate(letter_image_regions):\n",
    "    # Grab the coordinates of the letter in the image\n",
    "    x, y, w, h = letter_bounding_box\n",
    "\n",
    "    # Extract the letter from the original image with a 2-pixel margin around the edge\n",
    "    new_img = im_bw[:, x - 1:x + w + 1]\n",
    "    plt.subplot(1,12,idx+1)\n",
    "#     new_img = cv2.resize(new_img,(18,30))\n",
    "    ret,new_img=cv2.threshold(new_img,160,255,0)\n",
    "    plt.imshow(new_img)"
   ]
  },
  {
   "cell_type": "code",
   "execution_count": null,
   "metadata": {},
   "outputs": [],
   "source": []
  },
  {
   "cell_type": "code",
   "execution_count": null,
   "metadata": {},
   "outputs": [],
   "source": []
  },
  {
   "cell_type": "code",
   "execution_count": 153,
   "metadata": {},
   "outputs": [
    {
     "data": {
      "text/plain": [
       "array([[  0,   0,   0, ...,   0,   0,   0],\n",
       "       [  0, 255, 255, ..., 255, 255,   0],\n",
       "       [  0, 255, 255, ..., 255, 255,   0],\n",
       "       ...,\n",
       "       [  0, 255, 255, ..., 255, 255,   0],\n",
       "       [  0, 255, 255, ..., 255, 255,   0],\n",
       "       [  0,   0,   0, ...,   0,   0,   0]], dtype=uint8)"
      ]
     },
     "execution_count": 153,
     "metadata": {},
     "output_type": "execute_result"
    }
   ],
   "source": [
    "cv2.drawContours(im_bw,contours,0,(0,0,255),0) "
   ]
  },
  {
   "cell_type": "code",
   "execution_count": 154,
   "metadata": {},
   "outputs": [
    {
     "data": {
      "text/plain": [
       "<matplotlib.image.AxesImage at 0x165332ceef0>"
      ]
     },
     "execution_count": 154,
     "metadata": {},
     "output_type": "execute_result"
    },
    {
     "data": {
      "image/png": "[encoded data removed]",
      "text/plain": [
       "<Figure size 432x288 with 1 Axes>"
      ]
     },
     "metadata": {
      "needs_background": "light"
     },
     "output_type": "display_data"
    }
   ],
   "source": [
    "plt.imshow(im_bw)"
   ]
  },
  {
   "cell_type": "code",
   "execution_count": 100,
   "metadata": {},
   "outputs": [],
   "source": [
    "def cut_file(file):\n",
    "    im=cv2.imread(file)\n",
    "    ret,im_bw=cv2.threshold(im_gray,160,255,0)\n",
    "    contours,hierarchy  = cv2.findContours(im_bw,cv2.RETR_TREE, cv2.CHAIN_APPROX_SIMPLE)\n",
    "    letter_image_regions = []\n",
    "\n",
    "    # Now we can loop through each of the four contours and extract the letter\n",
    "    # inside of each one\n",
    "for contour in contours:\n",
    "        # Get the rectangle that contains the contour\n",
    "    x,y,w,h = cv2.boundingRect(contour)\n",
    "    if w < 5 or w > 40:\n",
    "        continue\n",
    "        # Compare the width and height of the contour to detect letters that\n",
    "        # are conjoined into one chunk\n",
    "#     if w / h > 3:\n",
    "#             # This contour is too wide to be a single letter!\n",
    "#             # Split it in half into two letter regions!\n",
    "#         half_width = int(w / 2)\n",
    "#         print('half')\n",
    "#         letter_image_regions.append((x, y, half_width, h))\n",
    "#         letter_image_regions.append((x + half_width, y, half_width, h))\n",
    "#     else:\n",
    "            # This is a normal letter by itself\n",
    "    letter_image_regions.append((x, y, w, h))"
   ]
  },
  {
   "cell_type": "code",
   "execution_count": 176,
   "metadata": {},
   "outputs": [],
   "source": [
    "def vertical(img,thresh):\n",
    "    \"\"\"传入二值化后的图片进行垂直投影\"\"\"\n",
    "    pixdata = img.load()\n",
    "    w,h = img.size\n",
    "    ver_list = []\n",
    "    # 开始投影\n",
    "    for x in range(w):\n",
    "        black = 0\n",
    "        for y in range(h):\n",
    "            if pixdata[x,y] == 0:\n",
    "                black += 1\n",
    "        ver_list.append(black)\n",
    "    # 判断边界\n",
    "    l,r = 0,0\n",
    "    flag = False\n",
    "    cuts = []\n",
    "    for i,count in enumerate(ver_list):\n",
    "        # 阈值这里为0\n",
    "        if flag is False and count > thresh:\n",
    "            l = i\n",
    "            flag = True\n",
    "        if flag and count == 0:\n",
    "            r = i-1\n",
    "            flag = False\n",
    "            cuts.append((l,r))\n",
    "    return cuts"
   ]
  },
  {
   "cell_type": "code",
   "execution_count": 102,
   "metadata": {},
   "outputs": [],
   "source": [
    "from PIL import Image"
   ]
  },
  {
   "cell_type": "code",
   "execution_count": 177,
   "metadata": {},
   "outputs": [],
   "source": [
    "def binarizing(img,threshold):\n",
    "    \"\"\"传入image对象进行灰度、二值处理\"\"\"\n",
    "    img = img.convert(\"L\") # 转灰度\n",
    "    pixdata = img.load()\n",
    "    w, h = img.size\n",
    "    # 遍历所有像素，大于阈值的为黑色\n",
    "    for y in range(h):\n",
    "        for x in range(w):\n",
    "            if pixdata[x, y] < threshold:\n",
    "                pixdata[x, y] = 0\n",
    "            else:\n",
    "                pixdata[x, y] = 255\n",
    "    return img"
   ]
  },
  {
   "cell_type": "code",
   "execution_count": 191,
   "metadata": {},
   "outputs": [],
   "source": [
    "file = r'C:\\git\\CrawlMan\\phone_bomb\\ceoonline\\images\\250.jpg'\n",
    "img=Image.open(file)\n",
    "img1=binarizing(img,130)"
   ]
  },
  {
   "cell_type": "code",
   "execution_count": 192,
   "metadata": {
    "scrolled": true
   },
   "outputs": [
    {
     "data": {
      "text/plain": [
       "<matplotlib.image.AxesImage at 0x27fbba48c50>"
      ]
     },
     "execution_count": 192,
     "metadata": {},
     "output_type": "execute_result"
    },
    {
     "data": {
      "image/png": "[encoded data removed]",
      "text/plain": [
       "<Figure size 432x288 with 1 Axes>"
      ]
     },
     "metadata": {
      "needs_background": "light"
     },
     "output_type": "display_data"
    }
   ],
   "source": [
    "plt.imshow(img1)"
   ]
  },
  {
   "cell_type": "code",
   "execution_count": 193,
   "metadata": {},
   "outputs": [],
   "source": [
    "bord_list=vertical(img1,5)"
   ]
  },
  {
   "cell_type": "code",
   "execution_count": 194,
   "metadata": {},
   "outputs": [
    {
     "data": {
      "text/plain": [
       "[(5, 32), (38, 43), (55, 65)]"
      ]
     },
     "execution_count": 194,
     "metadata": {},
     "output_type": "execute_result"
    }
   ],
   "source": [
    "bord_list"
   ]
  },
  {
   "cell_type": "code",
   "execution_count": 195,
   "metadata": {},
   "outputs": [],
   "source": [
    "new_bord_list=[]\n",
    "for item in bord_list:\n",
    "    l=item[1]-item[0]\n",
    "    if l > 24:\n",
    "        new_bord_list.append((item[0],item[0]+int(l/2)))\n",
    "        new_bord_list.append((item[0]+int(l/2),item[1]))\n",
    "    else:\n",
    "        new_bord_list.append(item)"
   ]
  },
  {
   "cell_type": "code",
   "execution_count": 122,
   "metadata": {},
   "outputs": [
    {
     "data": {
      "text/plain": [
       "PIL.Image.Image"
      ]
     },
     "execution_count": 122,
     "metadata": {},
     "output_type": "execute_result"
    }
   ],
   "source": [
    "type(img1)"
   ]
  },
  {
   "cell_type": "code",
   "execution_count": 196,
   "metadata": {},
   "outputs": [],
   "source": [
    "np_img = np.array(img1)"
   ]
  },
  {
   "cell_type": "code",
   "execution_count": 124,
   "metadata": {},
   "outputs": [
    {
     "data": {
      "text/plain": [
       "(30, 72)"
      ]
     },
     "execution_count": 124,
     "metadata": {},
     "output_type": "execute_result"
    }
   ],
   "source": [
    "np_img.shape"
   ]
  },
  {
   "cell_type": "code",
   "execution_count": 145,
   "metadata": {},
   "outputs": [],
   "source": [
    "(h,w)=np_img.shape"
   ]
  },
  {
   "cell_type": "code",
   "execution_count": 127,
   "metadata": {},
   "outputs": [
    {
     "data": {
      "text/plain": [
       "30"
      ]
     },
     "execution_count": 127,
     "metadata": {},
     "output_type": "execute_result"
    }
   ],
   "source": [
    "h"
   ]
  },
  {
   "cell_type": "code",
   "execution_count": 128,
   "metadata": {},
   "outputs": [
    {
     "data": {
      "text/plain": [
       "72"
      ]
     },
     "execution_count": 128,
     "metadata": {},
     "output_type": "execute_result"
    }
   ],
   "source": [
    "w"
   ]
  },
  {
   "cell_type": "code",
   "execution_count": 197,
   "metadata": {},
   "outputs": [
    {
     "data": {
      "image/png": "[encoded data removed]",
      "text/plain": [
       "<Figure size 432x288 with 4 Axes>"
      ]
     },
     "metadata": {
      "needs_background": "light"
     },
     "output_type": "display_data"
    }
   ],
   "source": [
    "idx=1\n",
    "for vertor in new_bord_list:\n",
    "    new_img=np_img[:,vertor[0]-1:vertor[1]+1]\n",
    "    new_img=cv2.resize(new_img,(18,30))\n",
    "    ret,new_gray=cv2.threshold(new_img,150,255,0)\n",
    "    plt.subplot(1,6,idx)\n",
    "    plt.imshow(new_gray)\n",
    "    idx+=1"
   ]
  },
  {
   "cell_type": "code",
   "execution_count": 198,
   "metadata": {},
   "outputs": [],
   "source": [
    "def cut_file_fun(file):\n",
    "    img=Image.open(file)\n",
    "    img1=binarizing(img,130)\n",
    "    bord_list=vertical(img1,4)\n",
    "    new_bord_list=[]\n",
    "    for item in bord_list:\n",
    "        l=item[1]-item[0]\n",
    "        if l > 24:\n",
    "            new_bord_list.append((item[0],item[0]+int(l/2)))\n",
    "            new_bord_list.append((item[0]+int(l/2),item[1]))\n",
    "        else:\n",
    "            new_bord_list.append(item)\n",
    "            \n",
    "    np_img = np.array(img1)\n",
    "    idx=1\n",
    "    t=str(int(time.time()*1000))\n",
    "    for vertor in new_bord_list:\n",
    "        new_img=np_img[:,vertor[0]-1:vertor[1]+1]\n",
    "        new_img=cv2.resize(new_img,(18,30))\n",
    "        ret,new_gray=cv2.threshold(new_img,150,255,0)\n",
    "        cv2.imwrite('{}-{}.jpg'.format(t,idx),new_gray)\n",
    "        idx+=1\n",
    "    \n"
   ]
  },
  {
   "cell_type": "code",
   "execution_count": 4,
   "metadata": {},
   "outputs": [],
   "source": [
    "import os\n",
    "import time"
   ]
  },
  {
   "cell_type": "code",
   "execution_count": 202,
   "metadata": {},
   "outputs": [],
   "source": [
    "os.chdir(r'C:\\git\\CrawlMan\\phone_bomb\\ceoonline\\data')"
   ]
  },
  {
   "cell_type": "code",
   "execution_count": 205,
   "metadata": {},
   "outputs": [],
   "source": [
    "parent=r'C:\\git\\CrawlMan\\phone_bomb\\ceoonline\\images'\n",
    "for file in os.listdir(parent):\n",
    "    file_name = os.path.join(parent,file)\n",
    "    cut_file_fun(file_name)\n",
    "    \n",
    "    "
   ]
  },
  {
   "cell_type": "code",
   "execution_count": 5,
   "metadata": {},
   "outputs": [],
   "source": [
    "parent=r'C:\\git\\CrawlMan\\phone_bomb\\ceoonline\\train'\n",
    "os.chdir(parent)"
   ]
  },
  {
   "cell_type": "code",
   "execution_count": 210,
   "metadata": {
    "scrolled": true
   },
   "outputs": [
    {
     "data": {
      "text/plain": [
       "<matplotlib.image.AxesImage at 0x27fba3a1a58>"
      ]
     },
     "execution_count": 210,
     "metadata": {},
     "output_type": "execute_result"
    },
    {
     "data": {
      "image/png": "[encoded data removed]",
      "text/plain": [
       "<Figure size 432x288 with 1 Axes>"
      ]
     },
     "metadata": {
      "needs_background": "light"
     },
     "output_type": "display_data"
    }
   ],
   "source": [
    "test_file=r'C:\\git\\CrawlMan\\phone_bomb\\ceoonline\\train\\2\\1553579908890-4.jpg'\n",
    "im=cv2.imread(test_file)\n",
    "im=cv2.cvtColor(im,cv2.COLOR_BGR2GRAY)\n",
    "ret,im_gray=cv2.threshold(im,127,255,0)\n",
    "plt.imshow(im_gray)"
   ]
  },
  {
   "cell_type": "code",
   "execution_count": 19,
   "metadata": {},
   "outputs": [
    {
     "name": "stdout",
     "output_type": "stream",
     "text": [
      "OpenCV(4.0.0) C:\\projects\\opencv-python\\opencv\\modules\\imgproc\\src\\color.cpp:181: error: (-215:Assertion failed) !_src.empty() in function 'cv::cvtColor'\n",
      "\n",
      "C:\\git\\CrawlMan\\phone_bomb\\ceoonline\\train\\7\\1553579920532-4 - 副本.jpg\n",
      "OpenCV(4.0.0) C:\\projects\\opencv-python\\opencv\\modules\\imgproc\\src\\color.cpp:181: error: (-215:Assertion failed) !_src.empty() in function 'cv::cvtColor'\n",
      "\n",
      "C:\\git\\CrawlMan\\phone_bomb\\ceoonline\\train\\7\\1553579937015-2 - 副本.jpg\n",
      "OpenCV(4.0.0) C:\\projects\\opencv-python\\opencv\\modules\\imgproc\\src\\color.cpp:181: error: (-215:Assertion failed) !_src.empty() in function 'cv::cvtColor'\n",
      "\n",
      "C:\\git\\CrawlMan\\phone_bomb\\ceoonline\\train\\7\\1553579952946-1 - 副本.jpg\n",
      "OpenCV(4.0.0) C:\\projects\\opencv-python\\opencv\\modules\\imgproc\\src\\color.cpp:181: error: (-215:Assertion failed) !_src.empty() in function 'cv::cvtColor'\n",
      "\n",
      "C:\\git\\CrawlMan\\phone_bomb\\ceoonline\\train\\7\\1553579953349-2 - 副本.jpg\n",
      "OpenCV(4.0.0) C:\\projects\\opencv-python\\opencv\\modules\\imgproc\\src\\color.cpp:181: error: (-215:Assertion failed) !_src.empty() in function 'cv::cvtColor'\n",
      "\n",
      "C:\\git\\CrawlMan\\phone_bomb\\ceoonline\\train\\t\\1553579922364-3 - 副本.jpg\n",
      "OpenCV(4.0.0) C:\\projects\\opencv-python\\opencv\\modules\\imgproc\\src\\color.cpp:181: error: (-215:Assertion failed) !_src.empty() in function 'cv::cvtColor'\n",
      "\n",
      "C:\\git\\CrawlMan\\phone_bomb\\ceoonline\\train\\t\\1553579934509-2 - 副本.jpg\n",
      "OpenCV(4.0.0) C:\\projects\\opencv-python\\opencv\\modules\\imgproc\\src\\color.cpp:181: error: (-215:Assertion failed) !_src.empty() in function 'cv::cvtColor'\n",
      "\n",
      "C:\\git\\CrawlMan\\phone_bomb\\ceoonline\\train\\t\\1553579936973-2 - 副本.jpg\n",
      "OpenCV(4.0.0) C:\\projects\\opencv-python\\opencv\\modules\\imgproc\\src\\color.cpp:181: error: (-215:Assertion failed) !_src.empty() in function 'cv::cvtColor'\n",
      "\n",
      "C:\\git\\CrawlMan\\phone_bomb\\ceoonline\\train\\t\\1553579944425-2 - 副本.jpg\n",
      "OpenCV(4.0.0) C:\\projects\\opencv-python\\opencv\\modules\\imgproc\\src\\color.cpp:181: error: (-215:Assertion failed) !_src.empty() in function 'cv::cvtColor'\n",
      "\n",
      "C:\\git\\CrawlMan\\phone_bomb\\ceoonline\\train\\t\\1553579944549-4 - 副本.jpg\n",
      "OpenCV(4.0.0) C:\\projects\\opencv-python\\opencv\\modules\\imgproc\\src\\color.cpp:181: error: (-215:Assertion failed) !_src.empty() in function 'cv::cvtColor'\n",
      "\n",
      "C:\\git\\CrawlMan\\phone_bomb\\ceoonline\\train\\t\\1553579944947-3 - 副本.jpg\n",
      "OpenCV(4.0.0) C:\\projects\\opencv-python\\opencv\\modules\\imgproc\\src\\color.cpp:181: error: (-215:Assertion failed) !_src.empty() in function 'cv::cvtColor'\n",
      "\n",
      "C:\\git\\CrawlMan\\phone_bomb\\ceoonline\\train\\t\\1553579947574-3 - 副本.jpg\n",
      "OpenCV(4.0.0) C:\\projects\\opencv-python\\opencv\\modules\\imgproc\\src\\color.cpp:181: error: (-215:Assertion failed) !_src.empty() in function 'cv::cvtColor'\n",
      "\n",
      "C:\\git\\CrawlMan\\phone_bomb\\ceoonline\\train\\t\\1553579949663-3 - 副本.jpg\n"
     ]
    }
   ],
   "source": [
    "dataset=[]\n",
    "label=[]\n",
    "for i in os.listdir('.'):\n",
    "    sub_folder = os.path.join(parent,i)\n",
    "    for file in os.listdir(sub_folder):\n",
    "        full_path=os.path.join(sub_folder,file)\n",
    "        try:\n",
    "            im=cv2.imread(full_path)\n",
    "            im=cv2.cvtColor(im,cv2.COLOR_BGR2GRAY)\n",
    "            ret,im_gray=cv2.threshold(im,127,255,0)\n",
    "        except Exception as e:\n",
    "            print(e)\n",
    "            print(full_path)\n",
    "        else:\n",
    "            dataset.append(im_gray)\n",
    "            label.append(map_dict[i])\n",
    "        \n",
    "        "
   ]
  },
  {
   "cell_type": "code",
   "execution_count": 20,
   "metadata": {},
   "outputs": [
    {
     "data": {
      "text/plain": [
       "4110"
      ]
     },
     "execution_count": 20,
     "metadata": {},
     "output_type": "execute_result"
    }
   ],
   "source": [
    "len(dataset)"
   ]
  },
  {
   "cell_type": "code",
   "execution_count": 21,
   "metadata": {},
   "outputs": [
    {
     "data": {
      "text/plain": [
       "4110"
      ]
     },
     "execution_count": 21,
     "metadata": {},
     "output_type": "execute_result"
    }
   ],
   "source": [
    "len(label)"
   ]
  },
  {
   "cell_type": "code",
   "execution_count": 22,
   "metadata": {
    "scrolled": true
   },
   "outputs": [],
   "source": [
    "from sklearn.cross_validation import train_test_split\n",
    "from keras.utils import np_utils\n",
    "from keras.models import Sequential\n",
    "from keras.layers import Dense,Dropout,Flatten,Conv2D,MaxPooling2D\n",
    "import pandas as pd\n",
    "from keras.models import load_model"
   ]
  },
  {
   "cell_type": "code",
   "execution_count": 24,
   "metadata": {},
   "outputs": [],
   "source": [
    "np_dataset = np.array(dataset)"
   ]
  },
  {
   "cell_type": "code",
   "execution_count": 25,
   "metadata": {},
   "outputs": [],
   "source": [
    "np_labels=np.array(label)"
   ]
  },
  {
   "cell_type": "code",
   "execution_count": 26,
   "metadata": {},
   "outputs": [],
   "source": [
    "X=np_dataset.copy()\n",
    "y=np_labels.copy()"
   ]
  },
  {
   "cell_type": "code",
   "execution_count": 27,
   "metadata": {
    "scrolled": true
   },
   "outputs": [
    {
     "data": {
      "text/plain": [
       "(4110, 30, 18)"
      ]
     },
     "execution_count": 27,
     "metadata": {},
     "output_type": "execute_result"
    }
   ],
   "source": [
    "X.shape"
   ]
  },
  {
   "cell_type": "code",
   "execution_count": 16,
   "metadata": {},
   "outputs": [],
   "source": [
    "import string"
   ]
  },
  {
   "cell_type": "code",
   "execution_count": 17,
   "metadata": {},
   "outputs": [],
   "source": [
    "# 映射\n",
    "s=string.digits+string.ascii_lowercase\n",
    "map_dict={}\n",
    "for idx,i in enumerate(s):\n",
    "    map_dict[i] = idx"
   ]
  },
  {
   "cell_type": "code",
   "execution_count": 18,
   "metadata": {
    "scrolled": false
   },
   "outputs": [
    {
     "data": {
      "text/plain": [
       "{'0': 0,\n",
       " '1': 1,\n",
       " '2': 2,\n",
       " '3': 3,\n",
       " '4': 4,\n",
       " '5': 5,\n",
       " '6': 6,\n",
       " '7': 7,\n",
       " '8': 8,\n",
       " '9': 9,\n",
       " 'a': 10,\n",
       " 'b': 11,\n",
       " 'c': 12,\n",
       " 'd': 13,\n",
       " 'e': 14,\n",
       " 'f': 15,\n",
       " 'g': 16,\n",
       " 'h': 17,\n",
       " 'i': 18,\n",
       " 'j': 19,\n",
       " 'k': 20,\n",
       " 'l': 21,\n",
       " 'm': 22,\n",
       " 'n': 23,\n",
       " 'o': 24,\n",
       " 'p': 25,\n",
       " 'q': 26,\n",
       " 'r': 27,\n",
       " 's': 28,\n",
       " 't': 29,\n",
       " 'u': 30,\n",
       " 'v': 31,\n",
       " 'w': 32,\n",
       " 'x': 33,\n",
       " 'y': 34,\n",
       " 'z': 35}"
      ]
     },
     "execution_count": 18,
     "metadata": {},
     "output_type": "execute_result"
    }
   ],
   "source": [
    "map_dict"
   ]
  },
  {
   "cell_type": "code",
   "execution_count": 28,
   "metadata": {},
   "outputs": [],
   "source": [
    "X_train,X_test,y_train,y_test = train_test_split(X,y,test_size=0.2)\n",
    "X_train_4D = X_train.reshape(X_train.shape[0],30,18,1).astype('float32')\n",
    "X_test_4D = X_test.reshape(X_test.shape[0],30,18,1).astype('float32')\n",
    "X_train_4D_normal=X_train_4D/255\n",
    "X_test_4D_normal=X_test_4D/255\n",
    "y_train_onehot = np_utils.to_categorical(y_train)\n",
    "y_test_onehot = np_utils.to_categorical(y_test)"
   ]
  },
  {
   "cell_type": "code",
   "execution_count": 29,
   "metadata": {},
   "outputs": [],
   "source": [
    "from keras.layers import Dense,Dropout,Flatten,Conv2D,MaxPooling2D"
   ]
  },
  {
   "cell_type": "code",
   "execution_count": 30,
   "metadata": {},
   "outputs": [],
   "source": [
    "model = Sequential()"
   ]
  },
  {
   "cell_type": "code",
   "execution_count": 32,
   "metadata": {},
   "outputs": [],
   "source": [
    "h=30\n",
    "w=18"
   ]
  },
  {
   "cell_type": "code",
   "execution_count": 33,
   "metadata": {},
   "outputs": [
    {
     "name": "stdout",
     "output_type": "stream",
     "text": [
      "WARNING:tensorflow:From C:\\ProgramData\\Anaconda3\\lib\\site-packages\\tensorflow\\python\\framework\\op_def_library.py:263: colocate_with (from tensorflow.python.framework.ops) is deprecated and will be removed in a future version.\n",
      "Instructions for updating:\n",
      "Colocations handled automatically by placer.\n"
     ]
    }
   ],
   "source": [
    "model.add(\n",
    "   Conv2D(\n",
    "   filters=16,\n",
    "   kernel_size=(5,5),\n",
    "   padding='same',\n",
    "   input_shape=(h,w,1),\n",
    "   activation='relu',\n",
    "   )\n",
    ")"
   ]
  },
  {
   "cell_type": "code",
   "execution_count": 35,
   "metadata": {},
   "outputs": [],
   "source": [
    "model.add(\n",
    "MaxPooling2D(pool_size=(2,2))\n",
    ")"
   ]
  },
  {
   "cell_type": "code",
   "execution_count": 36,
   "metadata": {},
   "outputs": [],
   "source": [
    "model.add(\n",
    "MaxPooling2D(pool_size=(2,2))\n",
    ")"
   ]
  },
  {
   "cell_type": "code",
   "execution_count": 37,
   "metadata": {},
   "outputs": [
    {
     "name": "stdout",
     "output_type": "stream",
     "text": [
      "WARNING:tensorflow:From C:\\ProgramData\\Anaconda3\\lib\\site-packages\\keras\\backend\\tensorflow_backend.py:3445: calling dropout (from tensorflow.python.ops.nn_ops) with keep_prob is deprecated and will be removed in a future version.\n",
      "Instructions for updating:\n",
      "Please use `rate` instead of `keep_prob`. Rate should be set to `rate = 1 - keep_prob`.\n"
     ]
    }
   ],
   "source": [
    "model.add(Dropout(0.25))"
   ]
  },
  {
   "cell_type": "code",
   "execution_count": 38,
   "metadata": {},
   "outputs": [],
   "source": [
    "model.add(Flatten())"
   ]
  },
  {
   "cell_type": "code",
   "execution_count": 39,
   "metadata": {},
   "outputs": [],
   "source": [
    "model.add(\n",
    "Dense(\n",
    "128,activation='relu'\n",
    ")\n",
    ")"
   ]
  },
  {
   "cell_type": "code",
   "execution_count": 40,
   "metadata": {},
   "outputs": [],
   "source": [
    "model.add(Dropout(0.25))"
   ]
  },
  {
   "cell_type": "code",
   "execution_count": 41,
   "metadata": {},
   "outputs": [],
   "source": [
    "model.add(\n",
    "Dense(\n",
    "36,\n",
    "    activation='softmax'\n",
    ")\n",
    ")"
   ]
  },
  {
   "cell_type": "code",
   "execution_count": 42,
   "metadata": {
    "scrolled": true
   },
   "outputs": [
    {
     "name": "stdout",
     "output_type": "stream",
     "text": [
      "_________________________________________________________________\n",
      "Layer (type)                 Output Shape              Param #   \n",
      "=================================================================\n",
      "conv2d_1 (Conv2D)            (None, 30, 18, 16)        416       \n",
      "_________________________________________________________________\n",
      "max_pooling2d_1 (MaxPooling2 (None, 15, 9, 16)         0         \n",
      "_________________________________________________________________\n",
      "max_pooling2d_2 (MaxPooling2 (None, 7, 4, 16)          0         \n",
      "_________________________________________________________________\n",
      "max_pooling2d_3 (MaxPooling2 (None, 3, 2, 16)          0         \n",
      "_________________________________________________________________\n",
      "dropout_1 (Dropout)          (None, 3, 2, 16)          0         \n",
      "_________________________________________________________________\n",
      "flatten_1 (Flatten)          (None, 96)                0         \n",
      "_________________________________________________________________\n",
      "dense_1 (Dense)              (None, 128)               12416     \n",
      "_________________________________________________________________\n",
      "dropout_2 (Dropout)          (None, 128)               0         \n",
      "_________________________________________________________________\n",
      "dense_2 (Dense)              (None, 36)                4644      \n",
      "=================================================================\n",
      "Total params: 17,476\n",
      "Trainable params: 17,476\n",
      "Non-trainable params: 0\n",
      "_________________________________________________________________\n"
     ]
    }
   ],
   "source": [
    "model.summary()"
   ]
  },
  {
   "cell_type": "code",
   "execution_count": 43,
   "metadata": {},
   "outputs": [],
   "source": [
    "model.compile(loss='categorical_crossentropy',\n",
    "             optimizer='adam',\n",
    "             metrics=['accuracy'])"
   ]
  },
  {
   "cell_type": "code",
   "execution_count": 44,
   "metadata": {},
   "outputs": [
    {
     "name": "stdout",
     "output_type": "stream",
     "text": [
      "WARNING:tensorflow:From C:\\ProgramData\\Anaconda3\\lib\\site-packages\\tensorflow\\python\\ops\\math_ops.py:3066: to_int32 (from tensorflow.python.ops.math_ops) is deprecated and will be removed in a future version.\n",
      "Instructions for updating:\n",
      "Use tf.cast instead.\n",
      "Train on 2630 samples, validate on 658 samples\n",
      "Epoch 1/10\n",
      " - 1s - loss: 3.5211 - acc: 0.0536 - val_loss: 3.4156 - val_acc: 0.1125\n",
      "Epoch 2/10\n",
      " - 0s - loss: 3.3652 - acc: 0.1057 - val_loss: 3.2195 - val_acc: 0.1459\n",
      "Epoch 3/10\n",
      " - 0s - loss: 3.0969 - acc: 0.1939 - val_loss: 2.7802 - val_acc: 0.3435\n",
      "Epoch 4/10\n",
      " - 0s - loss: 2.6302 - acc: 0.3125 - val_loss: 2.1613 - val_acc: 0.5729\n",
      "Epoch 5/10\n",
      " - 0s - loss: 2.1244 - acc: 0.4373 - val_loss: 1.5758 - val_acc: 0.6702\n",
      "Epoch 6/10\n",
      " - 0s - loss: 1.6558 - acc: 0.5532 - val_loss: 1.1101 - val_acc: 0.7933\n",
      "Epoch 7/10\n",
      " - 0s - loss: 1.3562 - acc: 0.6179 - val_loss: 0.8326 - val_acc: 0.8693\n",
      "Epoch 8/10\n",
      " - 0s - loss: 1.1321 - acc: 0.6726 - val_loss: 0.6423 - val_acc: 0.9240\n",
      "Epoch 9/10\n",
      " - 0s - loss: 0.9555 - acc: 0.7274 - val_loss: 0.5170 - val_acc: 0.9240\n",
      "Epoch 10/10\n",
      " - 0s - loss: 0.8476 - acc: 0.7548 - val_loss: 0.4231 - val_acc: 0.9347\n"
     ]
    }
   ],
   "source": [
    "history_train = model.fit(x=X_train_4D_normal,\n",
    "                         y=y_train_onehot,\n",
    "                         validation_split=0.2,\n",
    "                          epochs=10,\n",
    "                          batch_size=100,\n",
    "                          verbose = 2,\n",
    "                         )"
   ]
  },
  {
   "cell_type": "code",
   "execution_count": 45,
   "metadata": {},
   "outputs": [
    {
     "name": "stdout",
     "output_type": "stream",
     "text": [
      "822/822 [==============================] - 0s 79us/step\n"
     ]
    }
   ],
   "source": [
    "score = model.evaluate(X_test_4D_normal,y_test_onehot)"
   ]
  },
  {
   "cell_type": "code",
   "execution_count": 47,
   "metadata": {},
   "outputs": [
    {
     "data": {
      "text/plain": [
       "[0.4137439669048699, 0.9330900250560176]"
      ]
     },
     "execution_count": 47,
     "metadata": {},
     "output_type": "execute_result"
    }
   ],
   "source": [
    "score"
   ]
  },
  {
   "cell_type": "code",
   "execution_count": 48,
   "metadata": {},
   "outputs": [],
   "source": [
    "prediction = model.predict_classes(X_test_4D_normal)"
   ]
  },
  {
   "cell_type": "code",
   "execution_count": 49,
   "metadata": {},
   "outputs": [
    {
     "data": {
      "text/plain": [
       "array([29,  2,  4,  2, 25, 22,  6, 16, 31, 19,  6, 19, 19, 21,  3,  8, 19,\n",
       "       20,  5, 23, 23, 30,  4, 31,  2, 32,  9, 30, 17,  7, 28, 23, 20, 10,\n",
       "       12, 31, 12,  4, 15, 15, 19,  8, 31, 28,  6, 19, 34, 17,  3,  6, 23,\n",
       "       29, 15, 32,  9, 25,  5,  6,  7, 15, 20, 16, 19, 15,  6, 10, 20, 30,\n",
       "        2, 23, 15, 23,  4,  8,  8, 19, 33, 16, 10, 12, 15, 23, 11,  6, 21,\n",
       "       32, 15, 11,  5, 13, 23, 11, 27,  9,  7, 28, 31, 12, 23, 31, 22, 30,\n",
       "       20,  9, 21, 28,  3,  4,  5, 10, 11, 23, 22, 15, 32, 19, 14, 12, 21,\n",
       "       25, 28, 19, 15, 17, 30, 17, 15, 31, 32, 28, 11, 32, 22, 21, 35, 28,\n",
       "        5, 34, 15, 11, 33, 15, 29, 19, 30, 11, 14, 27,  4, 15, 31,  9, 16,\n",
       "       23, 14, 34, 30,  4, 22,  2, 16,  8, 16,  8, 30,  7, 22,  8, 25,  7,\n",
       "       23, 35, 35, 20, 14, 19, 19, 14,  2, 19, 28,  8, 23, 31, 15,  6, 26,\n",
       "        7,  4, 26, 25, 16, 19, 11, 28, 14, 16,  4, 14,  3,  9, 23, 15,  8,\n",
       "       33,  8, 23, 26,  2, 20,  6, 17,  3, 27,  5, 23,  6, 35,  5, 15, 12,\n",
       "       35, 16,  5, 30, 25, 20, 31, 16, 22, 33, 28, 19, 19, 31, 12, 34, 25,\n",
       "       34, 14, 29, 35,  3, 32, 15, 12, 32, 26, 13, 21,  7, 33, 20,  9, 16,\n",
       "       15, 21, 26, 29,  9,  8, 13,  8, 29, 22, 12, 30, 35, 21,  6, 30, 29,\n",
       "       12, 19, 11, 11, 35, 34, 22, 12, 15, 23, 27, 31, 10,  7, 29, 17, 16,\n",
       "       14, 30, 21, 35,  5, 15, 10,  8, 27, 14, 20,  5, 31,  7, 11, 32,  6,\n",
       "       21,  6, 20,  4, 30,  4, 30, 35, 35, 30, 15, 28, 15, 26,  2, 15, 35,\n",
       "       30, 29, 34,  8, 21, 30, 29, 21,  9, 30, 30, 31, 30, 12,  4, 15, 31,\n",
       "       17, 15, 23, 28, 31, 16, 16, 33,  2, 25, 10, 31, 29, 35, 32, 29, 15,\n",
       "       13, 25, 25, 13,  4, 12, 32, 29, 21, 21, 35, 31,  9,  4,  5, 12, 29,\n",
       "        2,  7, 20, 25, 21, 17, 12, 12, 17, 14, 23, 32, 19, 12, 35, 32, 10,\n",
       "       21,  7, 31, 10, 22, 23,  6, 15, 23, 15, 30, 12, 12,  7,  6, 30,  2,\n",
       "        4, 16, 25, 22, 14, 33, 35, 34,  2,  7, 27, 22, 15,  5, 28,  8, 19,\n",
       "       25, 34, 23, 23, 21,  9, 19, 33, 12, 21,  3, 10,  3, 22,  7, 30, 15,\n",
       "       32, 16, 21,  9,  6, 17, 15, 27, 11, 13,  3,  5, 31, 12, 30, 29, 23,\n",
       "        7, 30,  4, 26, 10, 33,  9, 15, 13, 15, 32,  6,  8, 11, 30, 23, 14,\n",
       "       29,  7, 22, 17,  8,  6,  9, 28, 10, 29, 25, 20, 27,  4, 29, 31, 26,\n",
       "       21, 16, 20, 13,  4,  9, 12, 31, 12, 21, 33, 20, 12,  3, 10, 31,  8,\n",
       "       20, 12, 27, 33, 16, 30, 30, 19, 26, 22, 12, 28, 30, 19, 21, 27, 16,\n",
       "        2, 19, 29, 15, 19, 30, 29, 15, 31, 33, 30, 20,  3, 35, 25, 10, 34,\n",
       "       28, 34, 15, 12, 35, 10,  7, 19, 34, 33,  8, 20, 20, 16, 14, 17,  5,\n",
       "       10, 14, 35,  6, 16, 20,  2, 21, 15, 15, 19, 19, 12, 16, 20,  3,  9,\n",
       "       21,  2, 29, 15,  4, 33, 16, 16, 11, 22,  8, 29,  3, 21, 33, 12, 12,\n",
       "       14, 15, 13, 22, 12,  6,  7,  8, 25, 31,  2, 30,  3, 29, 30, 31, 20,\n",
       "       15, 28,  6, 10, 16, 30, 27,  5,  2, 35,  5, 19, 34, 31, 30, 16, 23,\n",
       "       30, 21, 14,  5, 14, 14, 19, 27, 28, 30, 30, 13,  9,  6, 20, 28, 26,\n",
       "       13, 30,  2, 30, 23,  9, 28, 19, 11, 25, 16, 13, 19,  9, 16, 35, 12,\n",
       "       30, 28, 13, 23, 35, 10, 17, 28,  4, 30, 12,  5,  3, 31, 28,  9, 13,\n",
       "        3,  9, 33, 34, 26, 30, 16, 21, 23,  4, 13,  9,  8, 35, 30, 28, 32,\n",
       "       22, 23,  7, 23,  3, 19, 30, 35,  8, 27, 29,  5, 30,  2, 30, 25, 34,\n",
       "       28,  7, 35, 34, 12, 31, 20, 15, 15, 35, 28,  7, 20, 30, 11, 32, 29,\n",
       "       12, 15, 27, 14, 22, 16, 34, 27, 19,  5, 10,  5, 20, 23, 35, 34,  9,\n",
       "       10, 11,  6, 11, 29, 25, 15,  5,  7, 30, 25, 31, 17, 15, 35, 11,  4,\n",
       "       20, 30, 14, 12, 33,  5,  7, 33, 14, 29,  7, 14,  8, 35, 30,  7,  6,\n",
       "       35, 10,  8, 25, 17, 31, 34, 22, 30, 17, 12, 31, 29, 12, 35, 12, 29,\n",
       "        8, 17, 17, 33,  9, 12,  9,  7,  3,  5, 16, 27,  3,  3,  8, 12, 25,\n",
       "       21,  5, 11, 12, 28, 12], dtype=int64)"
      ]
     },
     "execution_count": 49,
     "metadata": {},
     "output_type": "execute_result"
    }
   ],
   "source": [
    "prediction"
   ]
  },
  {
   "cell_type": "code",
   "execution_count": 50,
   "metadata": {},
   "outputs": [
    {
     "data": {
      "text/html": [
       "<div>\n",
       "<style scoped>\n",
       "    .dataframe tbody tr th:only-of-type {\n",
       "        vertical-align: middle;\n",
       "    }\n",
       "\n",
       "    .dataframe tbody tr th {\n",
       "        vertical-align: top;\n",
       "    }\n",
       "\n",
       "    .dataframe thead th {\n",
       "        text-align: right;\n",
       "    }\n",
       "</style>\n",
       "<table border=\"1\" class=\"dataframe\">\n",
       "  <thead>\n",
       "    <tr style=\"text-align: right;\">\n",
       "      <th>col_0</th>\n",
       "      <th>2</th>\n",
       "      <th>3</th>\n",
       "      <th>4</th>\n",
       "      <th>5</th>\n",
       "      <th>6</th>\n",
       "      <th>7</th>\n",
       "      <th>8</th>\n",
       "      <th>9</th>\n",
       "      <th>10</th>\n",
       "      <th>11</th>\n",
       "      <th>...</th>\n",
       "      <th>26</th>\n",
       "      <th>27</th>\n",
       "      <th>28</th>\n",
       "      <th>29</th>\n",
       "      <th>30</th>\n",
       "      <th>31</th>\n",
       "      <th>32</th>\n",
       "      <th>33</th>\n",
       "      <th>34</th>\n",
       "      <th>35</th>\n",
       "    </tr>\n",
       "    <tr>\n",
       "      <th>row_0</th>\n",
       "      <th></th>\n",
       "      <th></th>\n",
       "      <th></th>\n",
       "      <th></th>\n",
       "      <th></th>\n",
       "      <th></th>\n",
       "      <th></th>\n",
       "      <th></th>\n",
       "      <th></th>\n",
       "      <th></th>\n",
       "      <th></th>\n",
       "      <th></th>\n",
       "      <th></th>\n",
       "      <th></th>\n",
       "      <th></th>\n",
       "      <th></th>\n",
       "      <th></th>\n",
       "      <th></th>\n",
       "      <th></th>\n",
       "      <th></th>\n",
       "      <th></th>\n",
       "    </tr>\n",
       "  </thead>\n",
       "  <tbody>\n",
       "    <tr>\n",
       "      <th>2</th>\n",
       "      <td>13</td>\n",
       "      <td>0</td>\n",
       "      <td>0</td>\n",
       "      <td>0</td>\n",
       "      <td>0</td>\n",
       "      <td>0</td>\n",
       "      <td>0</td>\n",
       "      <td>0</td>\n",
       "      <td>0</td>\n",
       "      <td>0</td>\n",
       "      <td>...</td>\n",
       "      <td>0</td>\n",
       "      <td>0</td>\n",
       "      <td>0</td>\n",
       "      <td>0</td>\n",
       "      <td>0</td>\n",
       "      <td>0</td>\n",
       "      <td>0</td>\n",
       "      <td>0</td>\n",
       "      <td>0</td>\n",
       "      <td>0</td>\n",
       "    </tr>\n",
       "    <tr>\n",
       "      <th>3</th>\n",
       "      <td>0</td>\n",
       "      <td>20</td>\n",
       "      <td>0</td>\n",
       "      <td>0</td>\n",
       "      <td>0</td>\n",
       "      <td>0</td>\n",
       "      <td>0</td>\n",
       "      <td>0</td>\n",
       "      <td>0</td>\n",
       "      <td>0</td>\n",
       "      <td>...</td>\n",
       "      <td>0</td>\n",
       "      <td>0</td>\n",
       "      <td>0</td>\n",
       "      <td>0</td>\n",
       "      <td>0</td>\n",
       "      <td>0</td>\n",
       "      <td>0</td>\n",
       "      <td>0</td>\n",
       "      <td>0</td>\n",
       "      <td>0</td>\n",
       "    </tr>\n",
       "    <tr>\n",
       "      <th>4</th>\n",
       "      <td>0</td>\n",
       "      <td>0</td>\n",
       "      <td>22</td>\n",
       "      <td>0</td>\n",
       "      <td>0</td>\n",
       "      <td>0</td>\n",
       "      <td>0</td>\n",
       "      <td>0</td>\n",
       "      <td>0</td>\n",
       "      <td>0</td>\n",
       "      <td>...</td>\n",
       "      <td>0</td>\n",
       "      <td>0</td>\n",
       "      <td>0</td>\n",
       "      <td>0</td>\n",
       "      <td>0</td>\n",
       "      <td>0</td>\n",
       "      <td>0</td>\n",
       "      <td>0</td>\n",
       "      <td>0</td>\n",
       "      <td>0</td>\n",
       "    </tr>\n",
       "    <tr>\n",
       "      <th>5</th>\n",
       "      <td>0</td>\n",
       "      <td>0</td>\n",
       "      <td>0</td>\n",
       "      <td>21</td>\n",
       "      <td>0</td>\n",
       "      <td>0</td>\n",
       "      <td>0</td>\n",
       "      <td>0</td>\n",
       "      <td>0</td>\n",
       "      <td>0</td>\n",
       "      <td>...</td>\n",
       "      <td>0</td>\n",
       "      <td>0</td>\n",
       "      <td>1</td>\n",
       "      <td>0</td>\n",
       "      <td>0</td>\n",
       "      <td>0</td>\n",
       "      <td>0</td>\n",
       "      <td>0</td>\n",
       "      <td>0</td>\n",
       "      <td>0</td>\n",
       "    </tr>\n",
       "    <tr>\n",
       "      <th>6</th>\n",
       "      <td>0</td>\n",
       "      <td>0</td>\n",
       "      <td>0</td>\n",
       "      <td>0</td>\n",
       "      <td>21</td>\n",
       "      <td>0</td>\n",
       "      <td>0</td>\n",
       "      <td>0</td>\n",
       "      <td>0</td>\n",
       "      <td>0</td>\n",
       "      <td>...</td>\n",
       "      <td>0</td>\n",
       "      <td>0</td>\n",
       "      <td>0</td>\n",
       "      <td>0</td>\n",
       "      <td>0</td>\n",
       "      <td>0</td>\n",
       "      <td>0</td>\n",
       "      <td>0</td>\n",
       "      <td>0</td>\n",
       "      <td>0</td>\n",
       "    </tr>\n",
       "    <tr>\n",
       "      <th>7</th>\n",
       "      <td>0</td>\n",
       "      <td>0</td>\n",
       "      <td>0</td>\n",
       "      <td>0</td>\n",
       "      <td>0</td>\n",
       "      <td>26</td>\n",
       "      <td>0</td>\n",
       "      <td>0</td>\n",
       "      <td>0</td>\n",
       "      <td>0</td>\n",
       "      <td>...</td>\n",
       "      <td>0</td>\n",
       "      <td>0</td>\n",
       "      <td>0</td>\n",
       "      <td>0</td>\n",
       "      <td>0</td>\n",
       "      <td>0</td>\n",
       "      <td>0</td>\n",
       "      <td>0</td>\n",
       "      <td>0</td>\n",
       "      <td>0</td>\n",
       "    </tr>\n",
       "    <tr>\n",
       "      <th>8</th>\n",
       "      <td>0</td>\n",
       "      <td>0</td>\n",
       "      <td>0</td>\n",
       "      <td>0</td>\n",
       "      <td>0</td>\n",
       "      <td>0</td>\n",
       "      <td>24</td>\n",
       "      <td>0</td>\n",
       "      <td>0</td>\n",
       "      <td>0</td>\n",
       "      <td>...</td>\n",
       "      <td>0</td>\n",
       "      <td>0</td>\n",
       "      <td>0</td>\n",
       "      <td>0</td>\n",
       "      <td>0</td>\n",
       "      <td>0</td>\n",
       "      <td>0</td>\n",
       "      <td>0</td>\n",
       "      <td>0</td>\n",
       "      <td>0</td>\n",
       "    </tr>\n",
       "    <tr>\n",
       "      <th>9</th>\n",
       "      <td>0</td>\n",
       "      <td>0</td>\n",
       "      <td>0</td>\n",
       "      <td>0</td>\n",
       "      <td>0</td>\n",
       "      <td>0</td>\n",
       "      <td>1</td>\n",
       "      <td>23</td>\n",
       "      <td>0</td>\n",
       "      <td>0</td>\n",
       "      <td>...</td>\n",
       "      <td>0</td>\n",
       "      <td>0</td>\n",
       "      <td>0</td>\n",
       "      <td>0</td>\n",
       "      <td>0</td>\n",
       "      <td>0</td>\n",
       "      <td>0</td>\n",
       "      <td>0</td>\n",
       "      <td>0</td>\n",
       "      <td>0</td>\n",
       "    </tr>\n",
       "    <tr>\n",
       "      <th>10</th>\n",
       "      <td>0</td>\n",
       "      <td>0</td>\n",
       "      <td>0</td>\n",
       "      <td>0</td>\n",
       "      <td>0</td>\n",
       "      <td>0</td>\n",
       "      <td>1</td>\n",
       "      <td>0</td>\n",
       "      <td>20</td>\n",
       "      <td>0</td>\n",
       "      <td>...</td>\n",
       "      <td>0</td>\n",
       "      <td>0</td>\n",
       "      <td>0</td>\n",
       "      <td>0</td>\n",
       "      <td>0</td>\n",
       "      <td>0</td>\n",
       "      <td>0</td>\n",
       "      <td>0</td>\n",
       "      <td>0</td>\n",
       "      <td>0</td>\n",
       "    </tr>\n",
       "    <tr>\n",
       "      <th>11</th>\n",
       "      <td>0</td>\n",
       "      <td>0</td>\n",
       "      <td>0</td>\n",
       "      <td>0</td>\n",
       "      <td>0</td>\n",
       "      <td>0</td>\n",
       "      <td>1</td>\n",
       "      <td>0</td>\n",
       "      <td>0</td>\n",
       "      <td>20</td>\n",
       "      <td>...</td>\n",
       "      <td>0</td>\n",
       "      <td>0</td>\n",
       "      <td>0</td>\n",
       "      <td>0</td>\n",
       "      <td>0</td>\n",
       "      <td>0</td>\n",
       "      <td>0</td>\n",
       "      <td>0</td>\n",
       "      <td>0</td>\n",
       "      <td>0</td>\n",
       "    </tr>\n",
       "    <tr>\n",
       "      <th>12</th>\n",
       "      <td>0</td>\n",
       "      <td>0</td>\n",
       "      <td>0</td>\n",
       "      <td>0</td>\n",
       "      <td>0</td>\n",
       "      <td>0</td>\n",
       "      <td>0</td>\n",
       "      <td>0</td>\n",
       "      <td>0</td>\n",
       "      <td>0</td>\n",
       "      <td>...</td>\n",
       "      <td>0</td>\n",
       "      <td>0</td>\n",
       "      <td>0</td>\n",
       "      <td>0</td>\n",
       "      <td>0</td>\n",
       "      <td>0</td>\n",
       "      <td>0</td>\n",
       "      <td>0</td>\n",
       "      <td>0</td>\n",
       "      <td>2</td>\n",
       "    </tr>\n",
       "    <tr>\n",
       "      <th>13</th>\n",
       "      <td>0</td>\n",
       "      <td>0</td>\n",
       "      <td>0</td>\n",
       "      <td>0</td>\n",
       "      <td>0</td>\n",
       "      <td>0</td>\n",
       "      <td>0</td>\n",
       "      <td>0</td>\n",
       "      <td>0</td>\n",
       "      <td>0</td>\n",
       "      <td>...</td>\n",
       "      <td>0</td>\n",
       "      <td>0</td>\n",
       "      <td>0</td>\n",
       "      <td>0</td>\n",
       "      <td>0</td>\n",
       "      <td>0</td>\n",
       "      <td>0</td>\n",
       "      <td>0</td>\n",
       "      <td>0</td>\n",
       "      <td>0</td>\n",
       "    </tr>\n",
       "    <tr>\n",
       "      <th>14</th>\n",
       "      <td>0</td>\n",
       "      <td>0</td>\n",
       "      <td>0</td>\n",
       "      <td>0</td>\n",
       "      <td>0</td>\n",
       "      <td>0</td>\n",
       "      <td>0</td>\n",
       "      <td>0</td>\n",
       "      <td>0</td>\n",
       "      <td>0</td>\n",
       "      <td>...</td>\n",
       "      <td>0</td>\n",
       "      <td>0</td>\n",
       "      <td>0</td>\n",
       "      <td>0</td>\n",
       "      <td>0</td>\n",
       "      <td>0</td>\n",
       "      <td>0</td>\n",
       "      <td>0</td>\n",
       "      <td>0</td>\n",
       "      <td>0</td>\n",
       "    </tr>\n",
       "    <tr>\n",
       "      <th>15</th>\n",
       "      <td>0</td>\n",
       "      <td>0</td>\n",
       "      <td>0</td>\n",
       "      <td>0</td>\n",
       "      <td>0</td>\n",
       "      <td>0</td>\n",
       "      <td>0</td>\n",
       "      <td>0</td>\n",
       "      <td>0</td>\n",
       "      <td>0</td>\n",
       "      <td>...</td>\n",
       "      <td>0</td>\n",
       "      <td>0</td>\n",
       "      <td>0</td>\n",
       "      <td>0</td>\n",
       "      <td>0</td>\n",
       "      <td>0</td>\n",
       "      <td>0</td>\n",
       "      <td>0</td>\n",
       "      <td>0</td>\n",
       "      <td>0</td>\n",
       "    </tr>\n",
       "    <tr>\n",
       "      <th>16</th>\n",
       "      <td>0</td>\n",
       "      <td>0</td>\n",
       "      <td>0</td>\n",
       "      <td>0</td>\n",
       "      <td>2</td>\n",
       "      <td>0</td>\n",
       "      <td>0</td>\n",
       "      <td>0</td>\n",
       "      <td>1</td>\n",
       "      <td>0</td>\n",
       "      <td>...</td>\n",
       "      <td>4</td>\n",
       "      <td>0</td>\n",
       "      <td>0</td>\n",
       "      <td>0</td>\n",
       "      <td>0</td>\n",
       "      <td>0</td>\n",
       "      <td>0</td>\n",
       "      <td>0</td>\n",
       "      <td>0</td>\n",
       "      <td>0</td>\n",
       "    </tr>\n",
       "    <tr>\n",
       "      <th>17</th>\n",
       "      <td>0</td>\n",
       "      <td>0</td>\n",
       "      <td>0</td>\n",
       "      <td>0</td>\n",
       "      <td>0</td>\n",
       "      <td>0</td>\n",
       "      <td>0</td>\n",
       "      <td>0</td>\n",
       "      <td>0</td>\n",
       "      <td>0</td>\n",
       "      <td>...</td>\n",
       "      <td>0</td>\n",
       "      <td>0</td>\n",
       "      <td>0</td>\n",
       "      <td>0</td>\n",
       "      <td>0</td>\n",
       "      <td>0</td>\n",
       "      <td>0</td>\n",
       "      <td>0</td>\n",
       "      <td>0</td>\n",
       "      <td>0</td>\n",
       "    </tr>\n",
       "    <tr>\n",
       "      <th>19</th>\n",
       "      <td>0</td>\n",
       "      <td>0</td>\n",
       "      <td>0</td>\n",
       "      <td>0</td>\n",
       "      <td>0</td>\n",
       "      <td>0</td>\n",
       "      <td>0</td>\n",
       "      <td>0</td>\n",
       "      <td>0</td>\n",
       "      <td>0</td>\n",
       "      <td>...</td>\n",
       "      <td>0</td>\n",
       "      <td>0</td>\n",
       "      <td>0</td>\n",
       "      <td>0</td>\n",
       "      <td>0</td>\n",
       "      <td>0</td>\n",
       "      <td>0</td>\n",
       "      <td>0</td>\n",
       "      <td>0</td>\n",
       "      <td>0</td>\n",
       "    </tr>\n",
       "    <tr>\n",
       "      <th>20</th>\n",
       "      <td>0</td>\n",
       "      <td>0</td>\n",
       "      <td>0</td>\n",
       "      <td>0</td>\n",
       "      <td>0</td>\n",
       "      <td>0</td>\n",
       "      <td>0</td>\n",
       "      <td>0</td>\n",
       "      <td>0</td>\n",
       "      <td>0</td>\n",
       "      <td>...</td>\n",
       "      <td>0</td>\n",
       "      <td>0</td>\n",
       "      <td>0</td>\n",
       "      <td>0</td>\n",
       "      <td>0</td>\n",
       "      <td>0</td>\n",
       "      <td>0</td>\n",
       "      <td>0</td>\n",
       "      <td>0</td>\n",
       "      <td>0</td>\n",
       "    </tr>\n",
       "    <tr>\n",
       "      <th>21</th>\n",
       "      <td>0</td>\n",
       "      <td>0</td>\n",
       "      <td>0</td>\n",
       "      <td>0</td>\n",
       "      <td>0</td>\n",
       "      <td>0</td>\n",
       "      <td>0</td>\n",
       "      <td>0</td>\n",
       "      <td>0</td>\n",
       "      <td>0</td>\n",
       "      <td>...</td>\n",
       "      <td>0</td>\n",
       "      <td>0</td>\n",
       "      <td>0</td>\n",
       "      <td>0</td>\n",
       "      <td>0</td>\n",
       "      <td>0</td>\n",
       "      <td>0</td>\n",
       "      <td>0</td>\n",
       "      <td>0</td>\n",
       "      <td>0</td>\n",
       "    </tr>\n",
       "    <tr>\n",
       "      <th>22</th>\n",
       "      <td>0</td>\n",
       "      <td>0</td>\n",
       "      <td>0</td>\n",
       "      <td>0</td>\n",
       "      <td>0</td>\n",
       "      <td>0</td>\n",
       "      <td>0</td>\n",
       "      <td>0</td>\n",
       "      <td>0</td>\n",
       "      <td>0</td>\n",
       "      <td>...</td>\n",
       "      <td>0</td>\n",
       "      <td>0</td>\n",
       "      <td>0</td>\n",
       "      <td>0</td>\n",
       "      <td>0</td>\n",
       "      <td>1</td>\n",
       "      <td>0</td>\n",
       "      <td>0</td>\n",
       "      <td>0</td>\n",
       "      <td>0</td>\n",
       "    </tr>\n",
       "    <tr>\n",
       "      <th>23</th>\n",
       "      <td>0</td>\n",
       "      <td>0</td>\n",
       "      <td>0</td>\n",
       "      <td>0</td>\n",
       "      <td>0</td>\n",
       "      <td>0</td>\n",
       "      <td>0</td>\n",
       "      <td>0</td>\n",
       "      <td>0</td>\n",
       "      <td>0</td>\n",
       "      <td>...</td>\n",
       "      <td>0</td>\n",
       "      <td>0</td>\n",
       "      <td>0</td>\n",
       "      <td>0</td>\n",
       "      <td>0</td>\n",
       "      <td>0</td>\n",
       "      <td>0</td>\n",
       "      <td>0</td>\n",
       "      <td>0</td>\n",
       "      <td>0</td>\n",
       "    </tr>\n",
       "    <tr>\n",
       "      <th>25</th>\n",
       "      <td>0</td>\n",
       "      <td>0</td>\n",
       "      <td>0</td>\n",
       "      <td>0</td>\n",
       "      <td>0</td>\n",
       "      <td>0</td>\n",
       "      <td>0</td>\n",
       "      <td>0</td>\n",
       "      <td>0</td>\n",
       "      <td>0</td>\n",
       "      <td>...</td>\n",
       "      <td>0</td>\n",
       "      <td>2</td>\n",
       "      <td>0</td>\n",
       "      <td>0</td>\n",
       "      <td>0</td>\n",
       "      <td>0</td>\n",
       "      <td>0</td>\n",
       "      <td>0</td>\n",
       "      <td>0</td>\n",
       "      <td>0</td>\n",
       "    </tr>\n",
       "    <tr>\n",
       "      <th>26</th>\n",
       "      <td>0</td>\n",
       "      <td>0</td>\n",
       "      <td>0</td>\n",
       "      <td>0</td>\n",
       "      <td>0</td>\n",
       "      <td>0</td>\n",
       "      <td>0</td>\n",
       "      <td>2</td>\n",
       "      <td>0</td>\n",
       "      <td>0</td>\n",
       "      <td>...</td>\n",
       "      <td>7</td>\n",
       "      <td>0</td>\n",
       "      <td>0</td>\n",
       "      <td>0</td>\n",
       "      <td>0</td>\n",
       "      <td>0</td>\n",
       "      <td>0</td>\n",
       "      <td>0</td>\n",
       "      <td>0</td>\n",
       "      <td>0</td>\n",
       "    </tr>\n",
       "    <tr>\n",
       "      <th>27</th>\n",
       "      <td>0</td>\n",
       "      <td>0</td>\n",
       "      <td>0</td>\n",
       "      <td>0</td>\n",
       "      <td>0</td>\n",
       "      <td>0</td>\n",
       "      <td>0</td>\n",
       "      <td>0</td>\n",
       "      <td>0</td>\n",
       "      <td>0</td>\n",
       "      <td>...</td>\n",
       "      <td>0</td>\n",
       "      <td>14</td>\n",
       "      <td>0</td>\n",
       "      <td>0</td>\n",
       "      <td>0</td>\n",
       "      <td>0</td>\n",
       "      <td>0</td>\n",
       "      <td>0</td>\n",
       "      <td>0</td>\n",
       "      <td>0</td>\n",
       "    </tr>\n",
       "    <tr>\n",
       "      <th>28</th>\n",
       "      <td>0</td>\n",
       "      <td>0</td>\n",
       "      <td>0</td>\n",
       "      <td>4</td>\n",
       "      <td>1</td>\n",
       "      <td>0</td>\n",
       "      <td>0</td>\n",
       "      <td>0</td>\n",
       "      <td>0</td>\n",
       "      <td>0</td>\n",
       "      <td>...</td>\n",
       "      <td>0</td>\n",
       "      <td>0</td>\n",
       "      <td>26</td>\n",
       "      <td>0</td>\n",
       "      <td>0</td>\n",
       "      <td>0</td>\n",
       "      <td>0</td>\n",
       "      <td>0</td>\n",
       "      <td>0</td>\n",
       "      <td>0</td>\n",
       "    </tr>\n",
       "    <tr>\n",
       "      <th>29</th>\n",
       "      <td>0</td>\n",
       "      <td>0</td>\n",
       "      <td>0</td>\n",
       "      <td>0</td>\n",
       "      <td>0</td>\n",
       "      <td>0</td>\n",
       "      <td>0</td>\n",
       "      <td>0</td>\n",
       "      <td>0</td>\n",
       "      <td>0</td>\n",
       "      <td>...</td>\n",
       "      <td>0</td>\n",
       "      <td>0</td>\n",
       "      <td>0</td>\n",
       "      <td>29</td>\n",
       "      <td>0</td>\n",
       "      <td>0</td>\n",
       "      <td>0</td>\n",
       "      <td>0</td>\n",
       "      <td>0</td>\n",
       "      <td>0</td>\n",
       "    </tr>\n",
       "    <tr>\n",
       "      <th>30</th>\n",
       "      <td>0</td>\n",
       "      <td>0</td>\n",
       "      <td>0</td>\n",
       "      <td>0</td>\n",
       "      <td>0</td>\n",
       "      <td>0</td>\n",
       "      <td>0</td>\n",
       "      <td>0</td>\n",
       "      <td>0</td>\n",
       "      <td>0</td>\n",
       "      <td>...</td>\n",
       "      <td>0</td>\n",
       "      <td>0</td>\n",
       "      <td>0</td>\n",
       "      <td>0</td>\n",
       "      <td>52</td>\n",
       "      <td>0</td>\n",
       "      <td>0</td>\n",
       "      <td>0</td>\n",
       "      <td>0</td>\n",
       "      <td>0</td>\n",
       "    </tr>\n",
       "    <tr>\n",
       "      <th>31</th>\n",
       "      <td>0</td>\n",
       "      <td>0</td>\n",
       "      <td>0</td>\n",
       "      <td>0</td>\n",
       "      <td>0</td>\n",
       "      <td>0</td>\n",
       "      <td>0</td>\n",
       "      <td>0</td>\n",
       "      <td>0</td>\n",
       "      <td>0</td>\n",
       "      <td>...</td>\n",
       "      <td>0</td>\n",
       "      <td>0</td>\n",
       "      <td>0</td>\n",
       "      <td>0</td>\n",
       "      <td>0</td>\n",
       "      <td>30</td>\n",
       "      <td>0</td>\n",
       "      <td>0</td>\n",
       "      <td>0</td>\n",
       "      <td>0</td>\n",
       "    </tr>\n",
       "    <tr>\n",
       "      <th>32</th>\n",
       "      <td>0</td>\n",
       "      <td>0</td>\n",
       "      <td>0</td>\n",
       "      <td>0</td>\n",
       "      <td>0</td>\n",
       "      <td>0</td>\n",
       "      <td>0</td>\n",
       "      <td>0</td>\n",
       "      <td>0</td>\n",
       "      <td>0</td>\n",
       "      <td>...</td>\n",
       "      <td>0</td>\n",
       "      <td>0</td>\n",
       "      <td>0</td>\n",
       "      <td>0</td>\n",
       "      <td>0</td>\n",
       "      <td>1</td>\n",
       "      <td>17</td>\n",
       "      <td>0</td>\n",
       "      <td>0</td>\n",
       "      <td>0</td>\n",
       "    </tr>\n",
       "    <tr>\n",
       "      <th>33</th>\n",
       "      <td>0</td>\n",
       "      <td>0</td>\n",
       "      <td>0</td>\n",
       "      <td>0</td>\n",
       "      <td>0</td>\n",
       "      <td>0</td>\n",
       "      <td>0</td>\n",
       "      <td>0</td>\n",
       "      <td>0</td>\n",
       "      <td>0</td>\n",
       "      <td>...</td>\n",
       "      <td>0</td>\n",
       "      <td>0</td>\n",
       "      <td>0</td>\n",
       "      <td>0</td>\n",
       "      <td>0</td>\n",
       "      <td>0</td>\n",
       "      <td>0</td>\n",
       "      <td>19</td>\n",
       "      <td>0</td>\n",
       "      <td>0</td>\n",
       "    </tr>\n",
       "    <tr>\n",
       "      <th>34</th>\n",
       "      <td>0</td>\n",
       "      <td>0</td>\n",
       "      <td>0</td>\n",
       "      <td>0</td>\n",
       "      <td>0</td>\n",
       "      <td>0</td>\n",
       "      <td>0</td>\n",
       "      <td>0</td>\n",
       "      <td>0</td>\n",
       "      <td>0</td>\n",
       "      <td>...</td>\n",
       "      <td>0</td>\n",
       "      <td>0</td>\n",
       "      <td>0</td>\n",
       "      <td>0</td>\n",
       "      <td>0</td>\n",
       "      <td>0</td>\n",
       "      <td>0</td>\n",
       "      <td>0</td>\n",
       "      <td>19</td>\n",
       "      <td>0</td>\n",
       "    </tr>\n",
       "    <tr>\n",
       "      <th>35</th>\n",
       "      <td>6</td>\n",
       "      <td>0</td>\n",
       "      <td>0</td>\n",
       "      <td>0</td>\n",
       "      <td>0</td>\n",
       "      <td>0</td>\n",
       "      <td>0</td>\n",
       "      <td>0</td>\n",
       "      <td>0</td>\n",
       "      <td>0</td>\n",
       "      <td>...</td>\n",
       "      <td>0</td>\n",
       "      <td>0</td>\n",
       "      <td>0</td>\n",
       "      <td>0</td>\n",
       "      <td>0</td>\n",
       "      <td>0</td>\n",
       "      <td>0</td>\n",
       "      <td>0</td>\n",
       "      <td>0</td>\n",
       "      <td>29</td>\n",
       "    </tr>\n",
       "  </tbody>\n",
       "</table>\n",
       "<p>32 rows × 32 columns</p>\n",
       "</div>"
      ],
      "text/plain": [
       "col_0  2   3   4   5   6   7   8   9   10  11  ...  26  27  28  29  30  31  \\\n",
       "row_0                                          ...                           \n",
       "2      13   0   0   0   0   0   0   0   0   0  ...   0   0   0   0   0   0   \n",
       "3       0  20   0   0   0   0   0   0   0   0  ...   0   0   0   0   0   0   \n",
       "4       0   0  22   0   0   0   0   0   0   0  ...   0   0   0   0   0   0   \n",
       "5       0   0   0  21   0   0   0   0   0   0  ...   0   0   1   0   0   0   \n",
       "6       0   0   0   0  21   0   0   0   0   0  ...   0   0   0   0   0   0   \n",
       "7       0   0   0   0   0  26   0   0   0   0  ...   0   0   0   0   0   0   \n",
       "8       0   0   0   0   0   0  24   0   0   0  ...   0   0   0   0   0   0   \n",
       "9       0   0   0   0   0   0   1  23   0   0  ...   0   0   0   0   0   0   \n",
       "10      0   0   0   0   0   0   1   0  20   0  ...   0   0   0   0   0   0   \n",
       "11      0   0   0   0   0   0   1   0   0  20  ...   0   0   0   0   0   0   \n",
       "12      0   0   0   0   0   0   0   0   0   0  ...   0   0   0   0   0   0   \n",
       "13      0   0   0   0   0   0   0   0   0   0  ...   0   0   0   0   0   0   \n",
       "14      0   0   0   0   0   0   0   0   0   0  ...   0   0   0   0   0   0   \n",
       "15      0   0   0   0   0   0   0   0   0   0  ...   0   0   0   0   0   0   \n",
       "16      0   0   0   0   2   0   0   0   1   0  ...   4   0   0   0   0   0   \n",
       "17      0   0   0   0   0   0   0   0   0   0  ...   0   0   0   0   0   0   \n",
       "19      0   0   0   0   0   0   0   0   0   0  ...   0   0   0   0   0   0   \n",
       "20      0   0   0   0   0   0   0   0   0   0  ...   0   0   0   0   0   0   \n",
       "21      0   0   0   0   0   0   0   0   0   0  ...   0   0   0   0   0   0   \n",
       "22      0   0   0   0   0   0   0   0   0   0  ...   0   0   0   0   0   1   \n",
       "23      0   0   0   0   0   0   0   0   0   0  ...   0   0   0   0   0   0   \n",
       "25      0   0   0   0   0   0   0   0   0   0  ...   0   2   0   0   0   0   \n",
       "26      0   0   0   0   0   0   0   2   0   0  ...   7   0   0   0   0   0   \n",
       "27      0   0   0   0   0   0   0   0   0   0  ...   0  14   0   0   0   0   \n",
       "28      0   0   0   4   1   0   0   0   0   0  ...   0   0  26   0   0   0   \n",
       "29      0   0   0   0   0   0   0   0   0   0  ...   0   0   0  29   0   0   \n",
       "30      0   0   0   0   0   0   0   0   0   0  ...   0   0   0   0  52   0   \n",
       "31      0   0   0   0   0   0   0   0   0   0  ...   0   0   0   0   0  30   \n",
       "32      0   0   0   0   0   0   0   0   0   0  ...   0   0   0   0   0   1   \n",
       "33      0   0   0   0   0   0   0   0   0   0  ...   0   0   0   0   0   0   \n",
       "34      0   0   0   0   0   0   0   0   0   0  ...   0   0   0   0   0   0   \n",
       "35      6   0   0   0   0   0   0   0   0   0  ...   0   0   0   0   0   0   \n",
       "\n",
       "col_0  32  33  34  35  \n",
       "row_0                  \n",
       "2       0   0   0   0  \n",
       "3       0   0   0   0  \n",
       "4       0   0   0   0  \n",
       "5       0   0   0   0  \n",
       "6       0   0   0   0  \n",
       "7       0   0   0   0  \n",
       "8       0   0   0   0  \n",
       "9       0   0   0   0  \n",
       "10      0   0   0   0  \n",
       "11      0   0   0   0  \n",
       "12      0   0   0   2  \n",
       "13      0   0   0   0  \n",
       "14      0   0   0   0  \n",
       "15      0   0   0   0  \n",
       "16      0   0   0   0  \n",
       "17      0   0   0   0  \n",
       "19      0   0   0   0  \n",
       "20      0   0   0   0  \n",
       "21      0   0   0   0  \n",
       "22      0   0   0   0  \n",
       "23      0   0   0   0  \n",
       "25      0   0   0   0  \n",
       "26      0   0   0   0  \n",
       "27      0   0   0   0  \n",
       "28      0   0   0   0  \n",
       "29      0   0   0   0  \n",
       "30      0   0   0   0  \n",
       "31      0   0   0   0  \n",
       "32     17   0   0   0  \n",
       "33      0  19   0   0  \n",
       "34      0   0  19   0  \n",
       "35      0   0   0  29  \n",
       "\n",
       "[32 rows x 32 columns]"
      ]
     },
     "execution_count": 50,
     "metadata": {},
     "output_type": "execute_result"
    }
   ],
   "source": [
    "import pandas as pd\n",
    "pd.crosstab(y_test,prediction)"
   ]
  },
  {
   "cell_type": "code",
   "execution_count": 51,
   "metadata": {},
   "outputs": [],
   "source": [
    "model.save('ceconline.h5')"
   ]
  },
  {
   "cell_type": "code",
   "execution_count": 52,
   "metadata": {},
   "outputs": [],
   "source": [
    "os.chdir(r'C:\\git\\CrawlMan\\phone_bomb\\ceoonline\\images')"
   ]
  },
  {
   "cell_type": "code",
   "execution_count": 53,
   "metadata": {},
   "outputs": [
    {
     "data": {
      "text/plain": [
       "<matplotlib.image.AxesImage at 0x1e60b36d6a0>"
      ]
     },
     "execution_count": 53,
     "metadata": {},
     "output_type": "execute_result"
    },
    {
     "data": {
      "image/png": "[encoded data removed]",
      "text/plain": [
       "<Figure size 2160x1440 with 1 Axes>"
      ]
     },
     "metadata": {
      "needs_background": "light"
     },
     "output_type": "display_data"
    }
   ],
   "source": [
    "file='29.jpg'\n",
    "im = cv2.imread(file)\n",
    "g_im = cv2.cvtColor(im,cv2.COLOR_BGR2GRAY)\n",
    "ret2,th2 = cv2.threshold(g_im,127,255,cv2.THRESH_BINARY)\n",
    "# th2_g = cv2.GaussianBlur(th2,(3,3),0)\n",
    "# ret2,th2 = cv2.threshold(th2_g,200,255,cv2.THRESH_BINARY)\n",
    "plt.figure(figsize=(30,20))\n",
    "plt.imshow(th2)"
   ]
  },
  {
   "cell_type": "code",
   "execution_count": null,
   "metadata": {},
   "outputs": [],
   "source": [
    "img=Image.open(file)\n",
    "img1=binarizing(img,130)\n",
    "bord_list=vertical(img1,4)\n",
    "new_bord_list=[]\n",
    "for item in bord_list:\n",
    "    l=item[1]-item[0]\n",
    "    if l > 24:\n",
    "        new_bord_list.append((item[0],item[0]+int(l/2)))\n",
    "        new_bord_list.append((item[0]+int(l/2),item[1]))\n",
    "    else:\n",
    "        new_bord_list.append(item)\n",
    "\n",
    "np_img = np.array(img1)\n",
    "idx=1\n",
    "t=str(int(time.time()*1000))\n",
    "for vertor in new_bord_list:\n",
    "    new_img=np_img[:,vertor[0]-1:vertor[1]+1]\n",
    "    new_img=cv2.resize(new_img,(18,30))\n",
    "    ret,new_gray=cv2.threshold(new_img,150,255,0)\n",
    "    cv2.imwrite('{}-{}.jpg'.format(t,idx),new_gray)\n",
    "    idx+=1"
   ]
  }
 ],
 "metadata": {
  "kernelspec": {
   "display_name": "Python 3",
   "language": "python",
   "name": "python3"
  },
  "language_info": {
   "codemirror_mode": {
    "name": "ipython",
    "version": 3
   },
   "file_extension": ".py",
   "mimetype": "text/x-python",
   "name": "python",
   "nbconvert_exporter": "python",
   "pygments_lexer": "ipython3",
   "version": "3.7.0"
  }
 },
 "nbformat": 4,
 "nbformat_minor": 2
}
