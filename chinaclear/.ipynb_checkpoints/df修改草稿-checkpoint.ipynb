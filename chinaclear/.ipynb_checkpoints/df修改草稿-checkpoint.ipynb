{
 "cells": [
  {
   "cell_type": "code",
   "execution_count": null,
   "metadata": {},
   "outputs": [],
   "source": [
    "import np as num"
   ]
  },
  {
   "cell_type": "code",
   "execution_count": 1,
   "metadata": {},
   "outputs": [],
   "source": [
    "import pandas as pd\n",
    "filename='gpzyhgmx_2018.11.19.xls'"
   ]
  },
  {
   "cell_type": "code",
   "execution_count": 14,
   "metadata": {},
   "outputs": [],
   "source": [
    "df = pd.read_excel(filename,skiprows=2,dtypes={'证券代码':str})    \n",
    "table_name = filename.split('.xls')[0]"
   ]
  },
  {
   "cell_type": "code",
   "execution_count": 15,
   "metadata": {},
   "outputs": [
    {
     "data": {
      "text/html": [
       "<div>\n",
       "<style scoped>\n",
       "    .dataframe tbody tr th:only-of-type {\n",
       "        vertical-align: middle;\n",
       "    }\n",
       "\n",
       "    .dataframe tbody tr th {\n",
       "        vertical-align: top;\n",
       "    }\n",
       "\n",
       "    .dataframe thead th {\n",
       "        text-align: right;\n",
       "    }\n",
       "</style>\n",
       "<table border=\"1\" class=\"dataframe\">\n",
       "  <thead>\n",
       "    <tr style=\"text-align: right;\">\n",
       "      <th></th>\n",
       "      <th>Unnamed: 0</th>\n",
       "      <th>统计日期</th>\n",
       "      <th>证券代码</th>\n",
       "      <th>证券简称</th>\n",
       "      <th>质押笔数(笔)</th>\n",
       "      <th>无限售股份质押数量(万)</th>\n",
       "      <th>有限售股份质押数量(万)</th>\n",
       "      <th>A股总股本(万)</th>\n",
       "      <th>质押比例（%）</th>\n",
       "    </tr>\n",
       "  </thead>\n",
       "  <tbody>\n",
       "    <tr>\n",
       "      <th>0</th>\n",
       "      <td>NaN</td>\n",
       "      <td>2018-11-23</td>\n",
       "      <td>1</td>\n",
       "      <td>平安银行</td>\n",
       "      <td>620</td>\n",
       "      <td>833.88</td>\n",
       "      <td>0.00</td>\n",
       "      <td>1717041.14</td>\n",
       "      <td>0.05</td>\n",
       "    </tr>\n",
       "    <tr>\n",
       "      <th>1</th>\n",
       "      <td>NaN</td>\n",
       "      <td>2018-11-23</td>\n",
       "      <td>2</td>\n",
       "      <td>万科Ａ</td>\n",
       "      <td>81</td>\n",
       "      <td>92105.31</td>\n",
       "      <td>0.00</td>\n",
       "      <td>972419.65</td>\n",
       "      <td>9.47</td>\n",
       "    </tr>\n",
       "    <tr>\n",
       "      <th>2</th>\n",
       "      <td>NaN</td>\n",
       "      <td>2018-11-23</td>\n",
       "      <td>4</td>\n",
       "      <td>国农科技</td>\n",
       "      <td>1</td>\n",
       "      <td>839.76</td>\n",
       "      <td>0.00</td>\n",
       "      <td>8397.67</td>\n",
       "      <td>10.00</td>\n",
       "    </tr>\n",
       "    <tr>\n",
       "      <th>3</th>\n",
       "      <td>NaN</td>\n",
       "      <td>2018-11-23</td>\n",
       "      <td>5</td>\n",
       "      <td>世纪星源</td>\n",
       "      <td>36</td>\n",
       "      <td>20816.35</td>\n",
       "      <td>5839.45</td>\n",
       "      <td>105853.68</td>\n",
       "      <td>25.18</td>\n",
       "    </tr>\n",
       "    <tr>\n",
       "      <th>4</th>\n",
       "      <td>NaN</td>\n",
       "      <td>2018-11-23</td>\n",
       "      <td>6</td>\n",
       "      <td>深振业Ａ</td>\n",
       "      <td>1</td>\n",
       "      <td>0.38</td>\n",
       "      <td>0.00</td>\n",
       "      <td>134999.50</td>\n",
       "      <td>0.00</td>\n",
       "    </tr>\n",
       "  </tbody>\n",
       "</table>\n",
       "</div>"
      ],
      "text/plain": [
       "   Unnamed: 0        统计日期  证券代码  证券简称  质押笔数(笔)  无限售股份质押数量(万)  有限售股份质押数量(万)  \\\n",
       "0         NaN  2018-11-23     1  平安银行      620        833.88          0.00   \n",
       "1         NaN  2018-11-23     2   万科Ａ       81      92105.31          0.00   \n",
       "2         NaN  2018-11-23     4  国农科技        1        839.76          0.00   \n",
       "3         NaN  2018-11-23     5  世纪星源       36      20816.35       5839.45   \n",
       "4         NaN  2018-11-23     6  深振业Ａ        1          0.38          0.00   \n",
       "\n",
       "     A股总股本(万)  质押比例（%）  \n",
       "0  1717041.14     0.05  \n",
       "1   972419.65     9.47  \n",
       "2     8397.67    10.00  \n",
       "3   105853.68    25.18  \n",
       "4   134999.50     0.00  "
      ]
     },
     "execution_count": 15,
     "metadata": {},
     "output_type": "execute_result"
    }
   ],
   "source": [
    "df.head()"
   ]
  },
  {
   "cell_type": "code",
   "execution_count": 4,
   "metadata": {},
   "outputs": [],
   "source": [
    "    columns = ['日期', '证券代码', '证券简称', '质押笔数', '无限售股份质押数量(万)',\n",
    "               '有限售股份质押数量(万)',\n",
    "               'A股总股本(万)', '质押比例(%)'\n",
    "               ]"
   ]
  },
  {
   "cell_type": "code",
   "execution_count": null,
   "metadata": {},
   "outputs": [],
   "source": [
    "columns1=[\n",
    "    '统计日期'\t'证券代码'\t'证券简称'\t'质押笔数(笔)''\t'无限售股份质押数量(万)''\t'有限售股份质押数量(万)''\t'A股总股本(万)\t质押比例（%）\n",
    "]"
   ]
  },
  {
   "cell_type": "code",
   "execution_count": 5,
   "metadata": {
    "scrolled": true
   },
   "outputs": [
    {
     "ename": "KeyError",
     "evalue": "\"['日期' '质押笔数' '质押比例(%)'] not in index\"",
     "output_type": "error",
     "traceback": [
      "\u001b[1;31m---------------------------------------------------------------------------\u001b[0m",
      "\u001b[1;31mKeyError\u001b[0m                                  Traceback (most recent call last)",
      "\u001b[1;32m<ipython-input-5-c59db0990343>\u001b[0m in \u001b[0;36m<module>\u001b[1;34m()\u001b[0m\n\u001b[1;32m----> 1\u001b[1;33m \u001b[0mdf\u001b[0m\u001b[1;33m[\u001b[0m\u001b[0mcolumns\u001b[0m\u001b[1;33m]\u001b[0m\u001b[1;33m\u001b[0m\u001b[0m\n\u001b[0m",
      "\u001b[1;32mc:\\python3_64\\lib\\site-packages\\pandas\\core\\frame.py\u001b[0m in \u001b[0;36m__getitem__\u001b[1;34m(self, key)\u001b[0m\n\u001b[0;32m   2680\u001b[0m         \u001b[1;32mif\u001b[0m \u001b[0misinstance\u001b[0m\u001b[1;33m(\u001b[0m\u001b[0mkey\u001b[0m\u001b[1;33m,\u001b[0m \u001b[1;33m(\u001b[0m\u001b[0mSeries\u001b[0m\u001b[1;33m,\u001b[0m \u001b[0mnp\u001b[0m\u001b[1;33m.\u001b[0m\u001b[0mndarray\u001b[0m\u001b[1;33m,\u001b[0m \u001b[0mIndex\u001b[0m\u001b[1;33m,\u001b[0m \u001b[0mlist\u001b[0m\u001b[1;33m)\u001b[0m\u001b[1;33m)\u001b[0m\u001b[1;33m:\u001b[0m\u001b[1;33m\u001b[0m\u001b[0m\n\u001b[0;32m   2681\u001b[0m             \u001b[1;31m# either boolean or fancy integer index\u001b[0m\u001b[1;33m\u001b[0m\u001b[1;33m\u001b[0m\u001b[0m\n\u001b[1;32m-> 2682\u001b[1;33m             \u001b[1;32mreturn\u001b[0m \u001b[0mself\u001b[0m\u001b[1;33m.\u001b[0m\u001b[0m_getitem_array\u001b[0m\u001b[1;33m(\u001b[0m\u001b[0mkey\u001b[0m\u001b[1;33m)\u001b[0m\u001b[1;33m\u001b[0m\u001b[0m\n\u001b[0m\u001b[0;32m   2683\u001b[0m         \u001b[1;32melif\u001b[0m \u001b[0misinstance\u001b[0m\u001b[1;33m(\u001b[0m\u001b[0mkey\u001b[0m\u001b[1;33m,\u001b[0m \u001b[0mDataFrame\u001b[0m\u001b[1;33m)\u001b[0m\u001b[1;33m:\u001b[0m\u001b[1;33m\u001b[0m\u001b[0m\n\u001b[0;32m   2684\u001b[0m             \u001b[1;32mreturn\u001b[0m \u001b[0mself\u001b[0m\u001b[1;33m.\u001b[0m\u001b[0m_getitem_frame\u001b[0m\u001b[1;33m(\u001b[0m\u001b[0mkey\u001b[0m\u001b[1;33m)\u001b[0m\u001b[1;33m\u001b[0m\u001b[0m\n",
      "\u001b[1;32mc:\\python3_64\\lib\\site-packages\\pandas\\core\\frame.py\u001b[0m in \u001b[0;36m_getitem_array\u001b[1;34m(self, key)\u001b[0m\n\u001b[0;32m   2724\u001b[0m             \u001b[1;32mreturn\u001b[0m \u001b[0mself\u001b[0m\u001b[1;33m.\u001b[0m\u001b[0m_take\u001b[0m\u001b[1;33m(\u001b[0m\u001b[0mindexer\u001b[0m\u001b[1;33m,\u001b[0m \u001b[0maxis\u001b[0m\u001b[1;33m=\u001b[0m\u001b[1;36m0\u001b[0m\u001b[1;33m)\u001b[0m\u001b[1;33m\u001b[0m\u001b[0m\n\u001b[0;32m   2725\u001b[0m         \u001b[1;32melse\u001b[0m\u001b[1;33m:\u001b[0m\u001b[1;33m\u001b[0m\u001b[0m\n\u001b[1;32m-> 2726\u001b[1;33m             \u001b[0mindexer\u001b[0m \u001b[1;33m=\u001b[0m \u001b[0mself\u001b[0m\u001b[1;33m.\u001b[0m\u001b[0mloc\u001b[0m\u001b[1;33m.\u001b[0m\u001b[0m_convert_to_indexer\u001b[0m\u001b[1;33m(\u001b[0m\u001b[0mkey\u001b[0m\u001b[1;33m,\u001b[0m \u001b[0maxis\u001b[0m\u001b[1;33m=\u001b[0m\u001b[1;36m1\u001b[0m\u001b[1;33m)\u001b[0m\u001b[1;33m\u001b[0m\u001b[0m\n\u001b[0m\u001b[0;32m   2727\u001b[0m             \u001b[1;32mreturn\u001b[0m \u001b[0mself\u001b[0m\u001b[1;33m.\u001b[0m\u001b[0m_take\u001b[0m\u001b[1;33m(\u001b[0m\u001b[0mindexer\u001b[0m\u001b[1;33m,\u001b[0m \u001b[0maxis\u001b[0m\u001b[1;33m=\u001b[0m\u001b[1;36m1\u001b[0m\u001b[1;33m)\u001b[0m\u001b[1;33m\u001b[0m\u001b[0m\n\u001b[0;32m   2728\u001b[0m \u001b[1;33m\u001b[0m\u001b[0m\n",
      "\u001b[1;32mc:\\python3_64\\lib\\site-packages\\pandas\\core\\indexing.py\u001b[0m in \u001b[0;36m_convert_to_indexer\u001b[1;34m(self, obj, axis, is_setter)\u001b[0m\n\u001b[0;32m   1325\u001b[0m                 \u001b[1;32mif\u001b[0m \u001b[0mmask\u001b[0m\u001b[1;33m.\u001b[0m\u001b[0many\u001b[0m\u001b[1;33m(\u001b[0m\u001b[1;33m)\u001b[0m\u001b[1;33m:\u001b[0m\u001b[1;33m\u001b[0m\u001b[0m\n\u001b[0;32m   1326\u001b[0m                     raise KeyError('{mask} not in index'\n\u001b[1;32m-> 1327\u001b[1;33m                                    .format(mask=objarr[mask]))\n\u001b[0m\u001b[0;32m   1328\u001b[0m \u001b[1;33m\u001b[0m\u001b[0m\n\u001b[0;32m   1329\u001b[0m                 \u001b[1;32mreturn\u001b[0m \u001b[0mcom\u001b[0m\u001b[1;33m.\u001b[0m\u001b[0m_values_from_object\u001b[0m\u001b[1;33m(\u001b[0m\u001b[0mindexer\u001b[0m\u001b[1;33m)\u001b[0m\u001b[1;33m\u001b[0m\u001b[0m\n",
      "\u001b[1;31mKeyError\u001b[0m: \"['日期' '质押笔数' '质押比例(%)'] not in index\""
     ]
    }
   ],
   "source": [
    "df[columns]"
   ]
  },
  {
   "cell_type": "code",
   "execution_count": 6,
   "metadata": {},
   "outputs": [],
   "source": [
    "del df['Unnamed: 0']"
   ]
  },
  {
   "cell_type": "code",
   "execution_count": 7,
   "metadata": {},
   "outputs": [
    {
     "data": {
      "text/html": [
       "<div>\n",
       "<style scoped>\n",
       "    .dataframe tbody tr th:only-of-type {\n",
       "        vertical-align: middle;\n",
       "    }\n",
       "\n",
       "    .dataframe tbody tr th {\n",
       "        vertical-align: top;\n",
       "    }\n",
       "\n",
       "    .dataframe thead th {\n",
       "        text-align: right;\n",
       "    }\n",
       "</style>\n",
       "<table border=\"1\" class=\"dataframe\">\n",
       "  <thead>\n",
       "    <tr style=\"text-align: right;\">\n",
       "      <th></th>\n",
       "      <th>统计日期</th>\n",
       "      <th>证券代码</th>\n",
       "      <th>证券简称</th>\n",
       "      <th>质押笔数(笔)</th>\n",
       "      <th>无限售股份质押数量(万)</th>\n",
       "      <th>有限售股份质押数量(万)</th>\n",
       "      <th>A股总股本(万)</th>\n",
       "      <th>质押比例（%）</th>\n",
       "    </tr>\n",
       "  </thead>\n",
       "  <tbody>\n",
       "    <tr>\n",
       "      <th>0</th>\n",
       "      <td>2018-11-23</td>\n",
       "      <td>1</td>\n",
       "      <td>平安银行</td>\n",
       "      <td>620</td>\n",
       "      <td>833.88</td>\n",
       "      <td>0.00</td>\n",
       "      <td>1717041.14</td>\n",
       "      <td>0.05</td>\n",
       "    </tr>\n",
       "    <tr>\n",
       "      <th>1</th>\n",
       "      <td>2018-11-23</td>\n",
       "      <td>2</td>\n",
       "      <td>万科Ａ</td>\n",
       "      <td>81</td>\n",
       "      <td>92105.31</td>\n",
       "      <td>0.00</td>\n",
       "      <td>972419.65</td>\n",
       "      <td>9.47</td>\n",
       "    </tr>\n",
       "    <tr>\n",
       "      <th>2</th>\n",
       "      <td>2018-11-23</td>\n",
       "      <td>4</td>\n",
       "      <td>国农科技</td>\n",
       "      <td>1</td>\n",
       "      <td>839.76</td>\n",
       "      <td>0.00</td>\n",
       "      <td>8397.67</td>\n",
       "      <td>10.00</td>\n",
       "    </tr>\n",
       "    <tr>\n",
       "      <th>3</th>\n",
       "      <td>2018-11-23</td>\n",
       "      <td>5</td>\n",
       "      <td>世纪星源</td>\n",
       "      <td>36</td>\n",
       "      <td>20816.35</td>\n",
       "      <td>5839.45</td>\n",
       "      <td>105853.68</td>\n",
       "      <td>25.18</td>\n",
       "    </tr>\n",
       "    <tr>\n",
       "      <th>4</th>\n",
       "      <td>2018-11-23</td>\n",
       "      <td>6</td>\n",
       "      <td>深振业Ａ</td>\n",
       "      <td>1</td>\n",
       "      <td>0.38</td>\n",
       "      <td>0.00</td>\n",
       "      <td>134999.50</td>\n",
       "      <td>0.00</td>\n",
       "    </tr>\n",
       "  </tbody>\n",
       "</table>\n",
       "</div>"
      ],
      "text/plain": [
       "         统计日期  证券代码  证券简称  质押笔数(笔)  无限售股份质押数量(万)  有限售股份质押数量(万)    A股总股本(万)  \\\n",
       "0  2018-11-23     1  平安银行      620        833.88          0.00  1717041.14   \n",
       "1  2018-11-23     2   万科Ａ       81      92105.31          0.00   972419.65   \n",
       "2  2018-11-23     4  国农科技        1        839.76          0.00     8397.67   \n",
       "3  2018-11-23     5  世纪星源       36      20816.35       5839.45   105853.68   \n",
       "4  2018-11-23     6  深振业Ａ        1          0.38          0.00   134999.50   \n",
       "\n",
       "   质押比例（%）  \n",
       "0     0.05  \n",
       "1     9.47  \n",
       "2    10.00  \n",
       "3    25.18  \n",
       "4     0.00  "
      ]
     },
     "execution_count": 7,
     "metadata": {},
     "output_type": "execute_result"
    }
   ],
   "source": [
    "df.head()"
   ]
  },
  {
   "cell_type": "code",
   "execution_count": 16,
   "metadata": {},
   "outputs": [],
   "source": [
    "df['证券代码']=df['证券代码'].map(lambda x:str(x).zfill(6))"
   ]
  },
  {
   "cell_type": "code",
   "execution_count": 17,
   "metadata": {
    "scrolled": true
   },
   "outputs": [
    {
     "data": {
      "text/html": [
       "<div>\n",
       "<style scoped>\n",
       "    .dataframe tbody tr th:only-of-type {\n",
       "        vertical-align: middle;\n",
       "    }\n",
       "\n",
       "    .dataframe tbody tr th {\n",
       "        vertical-align: top;\n",
       "    }\n",
       "\n",
       "    .dataframe thead th {\n",
       "        text-align: right;\n",
       "    }\n",
       "</style>\n",
       "<table border=\"1\" class=\"dataframe\">\n",
       "  <thead>\n",
       "    <tr style=\"text-align: right;\">\n",
       "      <th></th>\n",
       "      <th>Unnamed: 0</th>\n",
       "      <th>统计日期</th>\n",
       "      <th>证券代码</th>\n",
       "      <th>证券简称</th>\n",
       "      <th>质押笔数(笔)</th>\n",
       "      <th>无限售股份质押数量(万)</th>\n",
       "      <th>有限售股份质押数量(万)</th>\n",
       "      <th>A股总股本(万)</th>\n",
       "      <th>质押比例（%）</th>\n",
       "    </tr>\n",
       "  </thead>\n",
       "  <tbody>\n",
       "    <tr>\n",
       "      <th>0</th>\n",
       "      <td>NaN</td>\n",
       "      <td>2018-11-23</td>\n",
       "      <td>000001</td>\n",
       "      <td>平安银行</td>\n",
       "      <td>620</td>\n",
       "      <td>833.88</td>\n",
       "      <td>0.00</td>\n",
       "      <td>1717041.14</td>\n",
       "      <td>0.05</td>\n",
       "    </tr>\n",
       "    <tr>\n",
       "      <th>1</th>\n",
       "      <td>NaN</td>\n",
       "      <td>2018-11-23</td>\n",
       "      <td>000002</td>\n",
       "      <td>万科Ａ</td>\n",
       "      <td>81</td>\n",
       "      <td>92105.31</td>\n",
       "      <td>0.00</td>\n",
       "      <td>972419.65</td>\n",
       "      <td>9.47</td>\n",
       "    </tr>\n",
       "    <tr>\n",
       "      <th>2</th>\n",
       "      <td>NaN</td>\n",
       "      <td>2018-11-23</td>\n",
       "      <td>000004</td>\n",
       "      <td>国农科技</td>\n",
       "      <td>1</td>\n",
       "      <td>839.76</td>\n",
       "      <td>0.00</td>\n",
       "      <td>8397.67</td>\n",
       "      <td>10.00</td>\n",
       "    </tr>\n",
       "    <tr>\n",
       "      <th>3</th>\n",
       "      <td>NaN</td>\n",
       "      <td>2018-11-23</td>\n",
       "      <td>000005</td>\n",
       "      <td>世纪星源</td>\n",
       "      <td>36</td>\n",
       "      <td>20816.35</td>\n",
       "      <td>5839.45</td>\n",
       "      <td>105853.68</td>\n",
       "      <td>25.18</td>\n",
       "    </tr>\n",
       "    <tr>\n",
       "      <th>4</th>\n",
       "      <td>NaN</td>\n",
       "      <td>2018-11-23</td>\n",
       "      <td>000006</td>\n",
       "      <td>深振业Ａ</td>\n",
       "      <td>1</td>\n",
       "      <td>0.38</td>\n",
       "      <td>0.00</td>\n",
       "      <td>134999.50</td>\n",
       "      <td>0.00</td>\n",
       "    </tr>\n",
       "  </tbody>\n",
       "</table>\n",
       "</div>"
      ],
      "text/plain": [
       "   Unnamed: 0        统计日期    证券代码  证券简称  质押笔数(笔)  无限售股份质押数量(万)  有限售股份质押数量(万)  \\\n",
       "0         NaN  2018-11-23  000001  平安银行      620        833.88          0.00   \n",
       "1         NaN  2018-11-23  000002   万科Ａ       81      92105.31          0.00   \n",
       "2         NaN  2018-11-23  000004  国农科技        1        839.76          0.00   \n",
       "3         NaN  2018-11-23  000005  世纪星源       36      20816.35       5839.45   \n",
       "4         NaN  2018-11-23  000006  深振业Ａ        1          0.38          0.00   \n",
       "\n",
       "     A股总股本(万)  质押比例（%）  \n",
       "0  1717041.14     0.05  \n",
       "1   972419.65     9.47  \n",
       "2     8397.67    10.00  \n",
       "3   105853.68    25.18  \n",
       "4   134999.50     0.00  "
      ]
     },
     "execution_count": 17,
     "metadata": {},
     "output_type": "execute_result"
    }
   ],
   "source": [
    "df.head()"
   ]
  },
  {
   "cell_type": "code",
   "execution_count": 18,
   "metadata": {},
   "outputs": [],
   "source": [
    "del df['Unnamed: 0']"
   ]
  },
  {
   "cell_type": "code",
   "execution_count": 23,
   "metadata": {},
   "outputs": [],
   "source": [
    "df['统计日期']=df['统计日期'].astype('datetime64')"
   ]
  },
  {
   "cell_type": "code",
   "execution_count": 24,
   "metadata": {},
   "outputs": [
    {
     "name": "stdout",
     "output_type": "stream",
     "text": [
      "<class 'pandas.core.frame.DataFrame'>\n",
      "RangeIndex: 3464 entries, 0 to 3463\n",
      "Data columns (total 8 columns):\n",
      "统计日期            3464 non-null datetime64[ns]\n",
      "证券代码            3464 non-null object\n",
      "证券简称            3464 non-null object\n",
      "质押笔数(笔)         3464 non-null int64\n",
      "无限售股份质押数量(万)    3464 non-null float64\n",
      "有限售股份质押数量(万)    3464 non-null float64\n",
      "A股总股本(万)        3464 non-null float64\n",
      "质押比例（%）         3464 non-null float64\n",
      "dtypes: datetime64[ns](1), float64(4), int64(1), object(2)\n",
      "memory usage: 216.6+ KB\n"
     ]
    }
   ],
   "source": [
    "df.info()"
   ]
  },
  {
   "cell_type": "code",
   "execution_count": 31,
   "metadata": {},
   "outputs": [
    {
     "data": {
      "text/plain": [
       "1717041.14"
      ]
     },
     "execution_count": 31,
     "metadata": {},
     "output_type": "execute_result"
    }
   ],
   "source": [
    "df.iloc[0]['A股总股本(万)']"
   ]
  }
 ],
 "metadata": {
  "kernelspec": {
   "display_name": "Python 3",
   "language": "python",
   "name": "python3"
  },
  "language_info": {
   "codemirror_mode": {
    "name": "ipython",
    "version": 3
   },
   "file_extension": ".py",
   "mimetype": "text/x-python",
   "name": "python",
   "nbconvert_exporter": "python",
   "pygments_lexer": "ipython3",
   "version": "3.6.2"
  }
 },
 "nbformat": 4,
 "nbformat_minor": 2
}
