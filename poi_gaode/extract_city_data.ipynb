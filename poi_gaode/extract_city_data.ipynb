{
 "cells": [
  {
   "cell_type": "code",
   "execution_count": 17,
   "metadata": {},
   "outputs": [],
   "source": [
    "with open('sz_poi.txt','r') as f:\n",
    "    content = f.read()"
   ]
  },
  {
   "cell_type": "code",
   "execution_count": 18,
   "metadata": {},
   "outputs": [
    {
     "data": {
      "text/plain": [
       "79766"
      ]
     },
     "execution_count": 18,
     "metadata": {},
     "output_type": "execute_result"
    }
   ],
   "source": [
    "len(content)"
   ]
  },
  {
   "cell_type": "code",
   "execution_count": 19,
   "metadata": {},
   "outputs": [],
   "source": [
    "lines = content.split(';')"
   ]
  },
  {
   "cell_type": "code",
   "execution_count": 20,
   "metadata": {
    "scrolled": true
   },
   "outputs": [
    {
     "data": {
      "text/plain": [
       "'113.823338,22.543809'"
      ]
     },
     "execution_count": 20,
     "metadata": {},
     "output_type": "execute_result"
    }
   ],
   "source": [
    "lines[0]"
   ]
  },
  {
   "cell_type": "code",
   "execution_count": 21,
   "metadata": {},
   "outputs": [],
   "source": [
    "result=[]\n",
    "for i in lines:\n",
    "    s = i.split(',')\n",
    "    result.append((float(s[0]),float(s[1])))"
   ]
  },
  {
   "cell_type": "code",
   "execution_count": 22,
   "metadata": {},
   "outputs": [
    {
     "data": {
      "text/plain": [
       "(113.823338, 22.543809)"
      ]
     },
     "execution_count": 22,
     "metadata": {},
     "output_type": "execute_result"
    }
   ],
   "source": [
    "result[0]"
   ]
  },
  {
   "cell_type": "code",
   "execution_count": 23,
   "metadata": {},
   "outputs": [
    {
     "data": {
      "text/plain": [
       "(113.823338, 22.543809)"
      ]
     },
     "execution_count": 23,
     "metadata": {},
     "output_type": "execute_result"
    }
   ],
   "source": [
    "result[0]"
   ]
  },
  {
   "cell_type": "code",
   "execution_count": 30,
   "metadata": {},
   "outputs": [],
   "source": [
    "r1=sorted(result,key=lambda x:x[1],reverse=False)"
   ]
  },
  {
   "cell_type": "code",
   "execution_count": 32,
   "metadata": {},
   "outputs": [
    {
     "data": {
      "text/plain": [
       "(113.819933, 22.396344)"
      ]
     },
     "execution_count": 32,
     "metadata": {},
     "output_type": "execute_result"
    }
   ],
   "source": [
    "r1[0]"
   ]
  },
  {
   "cell_type": "code",
   "execution_count": 34,
   "metadata": {},
   "outputs": [],
   "source": [
    "import pymongo"
   ]
  },
  {
   "cell_type": "code",
   "execution_count": 35,
   "metadata": {},
   "outputs": [],
   "source": [
    "db=pymongo.MongoClient('10.18.6.26',port=27018)\n",
    "doc=db['spider']['gaode']"
   ]
  },
  {
   "cell_type": "code",
   "execution_count": 36,
   "metadata": {},
   "outputs": [],
   "source": [
    "import pandas as pd"
   ]
  },
  {
   "cell_type": "code",
   "execution_count": 37,
   "metadata": {},
   "outputs": [],
   "source": [
    "df = pd.DataFrame(list(doc.find()))"
   ]
  },
  {
   "cell_type": "code",
   "execution_count": 38,
   "metadata": {},
   "outputs": [
    {
     "data": {
      "text/html": [
       "<div>\n",
       "<style scoped>\n",
       "    .dataframe tbody tr th:only-of-type {\n",
       "        vertical-align: middle;\n",
       "    }\n",
       "\n",
       "    .dataframe tbody tr th {\n",
       "        vertical-align: top;\n",
       "    }\n",
       "\n",
       "    .dataframe thead th {\n",
       "        text-align: right;\n",
       "    }\n",
       "</style>\n",
       "<table border=\"1\" class=\"dataframe\">\n",
       "  <thead>\n",
       "    <tr style=\"text-align: right;\">\n",
       "      <th></th>\n",
       "      <th>_id</th>\n",
       "      <th>address</th>\n",
       "      <th>adname</th>\n",
       "      <th>biz_ext</th>\n",
       "      <th>biz_type</th>\n",
       "      <th>cityname</th>\n",
       "      <th>crawltime</th>\n",
       "      <th>distance</th>\n",
       "      <th>id</th>\n",
       "      <th>importance</th>\n",
       "      <th>...</th>\n",
       "      <th>name</th>\n",
       "      <th>parent</th>\n",
       "      <th>photos</th>\n",
       "      <th>pname</th>\n",
       "      <th>poiweight</th>\n",
       "      <th>shopid</th>\n",
       "      <th>shopinfo</th>\n",
       "      <th>tel</th>\n",
       "      <th>type</th>\n",
       "      <th>typecode</th>\n",
       "    </tr>\n",
       "  </thead>\n",
       "  <tbody>\n",
       "    <tr>\n",
       "      <th>0</th>\n",
       "      <td>5c090c624640d428944d594b</td>\n",
       "      <td>南洞口路与虎石路交叉口西50米</td>\n",
       "      <td>东莞市</td>\n",
       "      <td>{'rating': '2.9', 'cost': [], 'ticket_ordering...</td>\n",
       "      <td>tour</td>\n",
       "      <td>东莞市</td>\n",
       "      <td>2018-12-06 19:47:46.631</td>\n",
       "      <td>[]</td>\n",
       "      <td>B03017UO9C</td>\n",
       "      <td>[]</td>\n",
       "      <td>...</td>\n",
       "      <td>大岭山森林公园-石头景区</td>\n",
       "      <td>B030101Q6C</td>\n",
       "      <td>[]</td>\n",
       "      <td>广东省</td>\n",
       "      <td>[]</td>\n",
       "      <td>[]</td>\n",
       "      <td>2</td>\n",
       "      <td>[]</td>\n",
       "      <td>风景名胜;风景名胜;风景名胜</td>\n",
       "      <td>110200</td>\n",
       "    </tr>\n",
       "    <tr>\n",
       "      <th>1</th>\n",
       "      <td>5c090c624640d428944d594c</td>\n",
       "      <td>南洞口路与新溪路交叉口西50米</td>\n",
       "      <td>东莞市</td>\n",
       "      <td>{'rating': '2.9', 'cost': [], 'ticket_ordering...</td>\n",
       "      <td>tour</td>\n",
       "      <td>东莞市</td>\n",
       "      <td>2018-12-06 19:47:46.779</td>\n",
       "      <td>[]</td>\n",
       "      <td>B03018INXF</td>\n",
       "      <td>[]</td>\n",
       "      <td>...</td>\n",
       "      <td>大岭山森林公园-民营林</td>\n",
       "      <td>B030101Q6C</td>\n",
       "      <td>[]</td>\n",
       "      <td>广东省</td>\n",
       "      <td>[]</td>\n",
       "      <td>[]</td>\n",
       "      <td>2</td>\n",
       "      <td>[]</td>\n",
       "      <td>风景名胜;风景名胜;风景名胜</td>\n",
       "      <td>110200</td>\n",
       "    </tr>\n",
       "    <tr>\n",
       "      <th>2</th>\n",
       "      <td>5c090c624640d428944d594d</td>\n",
       "      <td>怀林路尽头往西直走500米大岭山森林公园石头景区内</td>\n",
       "      <td>东莞市</td>\n",
       "      <td>{'rating': [], 'cost': []}</td>\n",
       "      <td>[]</td>\n",
       "      <td>东莞市</td>\n",
       "      <td>2018-12-06 19:47:46.794</td>\n",
       "      <td>[]</td>\n",
       "      <td>B0FFG1MNZL</td>\n",
       "      <td>[]</td>\n",
       "      <td>...</td>\n",
       "      <td>南洞口治安防火亭</td>\n",
       "      <td>[]</td>\n",
       "      <td>[]</td>\n",
       "      <td>广东省</td>\n",
       "      <td>[]</td>\n",
       "      <td>[]</td>\n",
       "      <td>2</td>\n",
       "      <td>[]</td>\n",
       "      <td>政府机构及社会团体;公检法机构;公检法机关</td>\n",
       "      <td>130500</td>\n",
       "    </tr>\n",
       "    <tr>\n",
       "      <th>3</th>\n",
       "      <td>5c090c894640d4264c181e86</td>\n",
       "      <td>南洞口路与虎石路交叉口西50米</td>\n",
       "      <td>东莞市</td>\n",
       "      <td>{'rating': '2.9', 'cost': [], 'ticket_ordering...</td>\n",
       "      <td>tour</td>\n",
       "      <td>东莞市</td>\n",
       "      <td>2018-12-06 19:48:25.052</td>\n",
       "      <td>[]</td>\n",
       "      <td>B03017UO9C</td>\n",
       "      <td>[]</td>\n",
       "      <td>...</td>\n",
       "      <td>大岭山森林公园-石头景区</td>\n",
       "      <td>B030101Q6C</td>\n",
       "      <td>[]</td>\n",
       "      <td>广东省</td>\n",
       "      <td>[]</td>\n",
       "      <td>[]</td>\n",
       "      <td>2</td>\n",
       "      <td>[]</td>\n",
       "      <td>风景名胜;风景名胜;风景名胜</td>\n",
       "      <td>110200</td>\n",
       "    </tr>\n",
       "    <tr>\n",
       "      <th>4</th>\n",
       "      <td>5c090c894640d4264c181e87</td>\n",
       "      <td>南洞口路与新溪路交叉口西50米</td>\n",
       "      <td>东莞市</td>\n",
       "      <td>{'rating': '2.9', 'cost': [], 'ticket_ordering...</td>\n",
       "      <td>tour</td>\n",
       "      <td>东莞市</td>\n",
       "      <td>2018-12-06 19:48:25.058</td>\n",
       "      <td>[]</td>\n",
       "      <td>B03018INXF</td>\n",
       "      <td>[]</td>\n",
       "      <td>...</td>\n",
       "      <td>大岭山森林公园-民营林</td>\n",
       "      <td>B030101Q6C</td>\n",
       "      <td>[]</td>\n",
       "      <td>广东省</td>\n",
       "      <td>[]</td>\n",
       "      <td>[]</td>\n",
       "      <td>2</td>\n",
       "      <td>[]</td>\n",
       "      <td>风景名胜;风景名胜;风景名胜</td>\n",
       "      <td>110200</td>\n",
       "    </tr>\n",
       "  </tbody>\n",
       "</table>\n",
       "<p>5 rows × 21 columns</p>\n",
       "</div>"
      ],
      "text/plain": [
       "                        _id                    address adname  \\\n",
       "0  5c090c624640d428944d594b            南洞口路与虎石路交叉口西50米    东莞市   \n",
       "1  5c090c624640d428944d594c            南洞口路与新溪路交叉口西50米    东莞市   \n",
       "2  5c090c624640d428944d594d  怀林路尽头往西直走500米大岭山森林公园石头景区内    东莞市   \n",
       "3  5c090c894640d4264c181e86            南洞口路与虎石路交叉口西50米    东莞市   \n",
       "4  5c090c894640d4264c181e87            南洞口路与新溪路交叉口西50米    东莞市   \n",
       "\n",
       "                                             biz_ext biz_type cityname  \\\n",
       "0  {'rating': '2.9', 'cost': [], 'ticket_ordering...     tour      东莞市   \n",
       "1  {'rating': '2.9', 'cost': [], 'ticket_ordering...     tour      东莞市   \n",
       "2                         {'rating': [], 'cost': []}       []      东莞市   \n",
       "3  {'rating': '2.9', 'cost': [], 'ticket_ordering...     tour      东莞市   \n",
       "4  {'rating': '2.9', 'cost': [], 'ticket_ordering...     tour      东莞市   \n",
       "\n",
       "                crawltime distance          id importance   ...     \\\n",
       "0 2018-12-06 19:47:46.631       []  B03017UO9C         []   ...      \n",
       "1 2018-12-06 19:47:46.779       []  B03018INXF         []   ...      \n",
       "2 2018-12-06 19:47:46.794       []  B0FFG1MNZL         []   ...      \n",
       "3 2018-12-06 19:48:25.052       []  B03017UO9C         []   ...      \n",
       "4 2018-12-06 19:48:25.058       []  B03018INXF         []   ...      \n",
       "\n",
       "           name      parent photos pname poiweight shopid shopinfo tel  \\\n",
       "0  大岭山森林公园-石头景区  B030101Q6C     []   广东省        []     []        2  []   \n",
       "1   大岭山森林公园-民营林  B030101Q6C     []   广东省        []     []        2  []   \n",
       "2      南洞口治安防火亭          []     []   广东省        []     []        2  []   \n",
       "3  大岭山森林公园-石头景区  B030101Q6C     []   广东省        []     []        2  []   \n",
       "4   大岭山森林公园-民营林  B030101Q6C     []   广东省        []     []        2  []   \n",
       "\n",
       "                    type typecode  \n",
       "0         风景名胜;风景名胜;风景名胜   110200  \n",
       "1         风景名胜;风景名胜;风景名胜   110200  \n",
       "2  政府机构及社会团体;公检法机构;公检法机关   130500  \n",
       "3         风景名胜;风景名胜;风景名胜   110200  \n",
       "4         风景名胜;风景名胜;风景名胜   110200  \n",
       "\n",
       "[5 rows x 21 columns]"
      ]
     },
     "execution_count": 38,
     "metadata": {},
     "output_type": "execute_result"
    }
   ],
   "source": [
    "df.head()"
   ]
  },
  {
   "cell_type": "code",
   "execution_count": 39,
   "metadata": {},
   "outputs": [],
   "source": [
    "del df['_id']"
   ]
  },
  {
   "cell_type": "code",
   "execution_count": 41,
   "metadata": {},
   "outputs": [
    {
     "data": {
      "text/plain": [
       "20394"
      ]
     },
     "execution_count": 41,
     "metadata": {},
     "output_type": "execute_result"
    }
   ],
   "source": [
    "len(df)"
   ]
  },
  {
   "cell_type": "code",
   "execution_count": 43,
   "metadata": {},
   "outputs": [],
   "source": [
    "drop_df = df.drop_duplicates('id')"
   ]
  },
  {
   "cell_type": "code",
   "execution_count": 44,
   "metadata": {},
   "outputs": [
    {
     "data": {
      "text/plain": [
       "16219"
      ]
     },
     "execution_count": 44,
     "metadata": {},
     "output_type": "execute_result"
    }
   ],
   "source": [
    "len(drop_df)"
   ]
  }
 ],
 "metadata": {
  "kernelspec": {
   "display_name": "Python 3",
   "language": "python",
   "name": "python3"
  },
  "language_info": {
   "codemirror_mode": {
    "name": "ipython",
    "version": 3
   },
   "file_extension": ".py",
   "mimetype": "text/x-python",
   "name": "python",
   "nbconvert_exporter": "python",
   "pygments_lexer": "ipython3",
   "version": "3.6.2"
  }
 },
 "nbformat": 4,
 "nbformat_minor": 2
}
